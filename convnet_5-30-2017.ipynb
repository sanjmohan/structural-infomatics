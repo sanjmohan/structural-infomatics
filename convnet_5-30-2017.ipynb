{
 "cells": [
  {
   "cell_type": "markdown",
   "metadata": {
    "deletable": true,
    "editable": true
   },
   "source": [
    "# Convolutional Q8 Classification -- 5/30/2017\n",
    "\n",
    "https://arxiv.org/pdf/1702.03865.pdf\n",
    "\n",
    "Testing:\n",
    "- multiscale convnets followed by bidirectional recurrent layer\n",
    "\n",
    "Results:\n",
    "- 65.63%\n",
    "- skip chain conv num. filters from 1 to 44: train 74.30%, test 65.54%\n",
    "- merge block2 output with original input: train 70.06%, test 65.56%\n",
    "- c4 (after multiscale) layer from depth 16 to 96: train 71.68%, test: 65.70% (~80s/ep)\n",
    "- remove recurrent layer: train: 72.69%, test: 67.13% (~14s/ep)\n",
    "- add recurrent layer back, concat recurrent output with pre-recurrent conv output: train: 72.70%, test 67.23%"
   ]
  },
  {
   "cell_type": "markdown",
   "metadata": {
    "deletable": true,
    "editable": true
   },
   "source": [
    "## Imports"
   ]
  },
  {
   "cell_type": "code",
   "execution_count": 1,
   "metadata": {
    "collapsed": false,
    "deletable": true,
    "editable": true
   },
   "outputs": [
    {
     "name": "stderr",
     "output_type": "stream",
     "text": [
      "Using TensorFlow backend.\n"
     ]
    }
   ],
   "source": [
    "import numpy as np\n",
    "import tensorflow as tf\n",
    "import matplotlib.pyplot as plt\n",
    "# display graphs within the notebook\n",
    "%matplotlib inline\n",
    "\n",
    "import keras\n",
    "from keras import backend as K\n",
    "from keras.models import Model, load_model\n",
    "from keras import layers\n",
    "from keras import optimizers\n",
    "from keras import regularizers\n",
    "\n",
    "# my script for loading files\n",
    "import cullpdb_loader"
   ]
  },
  {
   "cell_type": "markdown",
   "metadata": {
    "deletable": true,
    "editable": true
   },
   "source": [
    "## Constants and Hyperparameters\n",
    "Declare constants about data such as the length of a protein and the number of possible residues and classes.\n",
    "<br><br>\n",
    "Declare hyperparameters about model such as learning rate, number of epochs of training (how many iterations through the entire data set to train for), etc."
   ]
  },
  {
   "cell_type": "code",
   "execution_count": 2,
   "metadata": {
    "collapsed": false,
    "deletable": true,
    "editable": true
   },
   "outputs": [],
   "source": [
    "NUM_RESIDUES = 700           # per protein (ie the length of each protein)\n",
    "RESIDUE_SIZE = 22\n",
    "NUM_CLASSES = 9              # 8 + 'NoSeq' -- output dimension\n",
    "PSSM_SIZE = 22\n",
    "NUM_FEATURES = RESIDUE_SIZE + PSSM_SIZE # size of one hot vector per residue\n",
    "\n",
    "INPUT_SHAPE = (NUM_RESIDUES, NUM_FEATURES)\n",
    "OUTPUT_SIZE = NUM_CLASSES\n",
    "\n",
    "LEARNING_RATE = 0.0005\n",
    "# regularization factor\n",
    "L2 = 0.025\n",
    "EPOCHS = 60\n",
    "MINIBATCH = 200\n",
    "LOSS='categorical_crossentropy'\n",
    "OPTIMIZER = optimizers.Adam(lr=LEARNING_RATE)\n",
    "\n",
    "SHOW_ACCURACY = True  # set to False for quicker train ops\n",
    "\n",
    "SAVE_FILE = \"models/convgru-filtered-5-30-2.h5py\"\n",
    "\n",
    "DATA = \"data/cullpdb+profile_6133.npy.gz\"\n",
    "DATA_FILTERED = \"data/cullpdb+profile_6133_filtered.npy.gz\"\n",
    "DATA_TEST = \"data/cb513+profile_split1.npy.gz\""
   ]
  },
  {
   "cell_type": "markdown",
   "metadata": {
    "deletable": true,
    "editable": true
   },
   "source": [
    "## Load Data\n",
    "<b>Data:</b><br> _x represents input proteins, _y represents target structure classifications (each as one-hot vectors) <br><br>\n",
    "<b>Data Shape:</b><br> The first dimension represents the number of proteins (ie the size of the dataset), second the number of residues per protein (length of each protein), and third the size of residue or structure vector.<br> For example, train_x without pssm is shape (5600, 700, 22): it is an <b>m \\* n \\* p</b> matrix where there are <b>m</b> proteins (each row), <b>n</b> residues per protein (each column), and <b>p</b> sized vectors to represent a single residue or a single structure (each \"slice\")."
   ]
  },
  {
   "cell_type": "code",
   "execution_count": 3,
   "metadata": {
    "collapsed": false,
    "deletable": true,
    "editable": true
   },
   "outputs": [
    {
     "name": "stdout",
     "output_type": "stream",
     "text": [
      "Loading protein residues and labels...\n",
      "Loading file from C:\\SANJAY\\CS\\Projects\\sdscbio\\data\\cullpdb+profile_6133_filtered.npy.gz...\n",
      "File Loaded.\n",
      "Loaded protein residues and labels.\n",
      "Reshaping...\n",
      "Reshaped\n",
      "Loading file from C:\\SANJAY\\CS\\Projects\\sdscbio\\data\\cb513+profile_split1.npy.gz...\n",
      "File Loaded.\n"
     ]
    }
   ],
   "source": [
    "train = cullpdb_loader.load_residues(DATA_FILTERED, split=False, two_d=True, pssm=True)  # load from my helper file\n",
    "\n",
    "test = cullpdb_loader.load_cb513(DATA_TEST, two_d=True, pssm=True)\n",
    "\n",
    "# train, validation, and test were loaded as tuples of (input, output);\n",
    "train_x, train_y = train\n",
    "test_x, test_y = test\n",
    "\n",
    "#train_x, train_y = train_x[:10], train_y[:10]"
   ]
  },
  {
   "cell_type": "code",
   "execution_count": 4,
   "metadata": {
    "collapsed": false,
    "deletable": true,
    "editable": true
   },
   "outputs": [
    {
     "name": "stdout",
     "output_type": "stream",
     "text": [
      "Residues:\n",
      "FDYQTVYFANQYGLRTIELGESEFVDNTLDNQHKXVIKAAWGGGYTNRNNVVINFKVDESLCDNLYFKDTDQPLVPXPASYYTLASDRIAIPKGQIXAGVEVQLTDDFFADEKSISENYVIPLLXTNVQGADSILQGKPVVENPVLTNAGDWSILPQNFVLYAVKYVNPWHGEYLRRGIDHATVAGTSKDIIRHEQFVENDEVVNISTKSXKDNLLTLKTKDESGKDISYTVRLSFAEDGSCTVHSGSQNVVVSGSGKFVSKGEKNSLGGKDRNAIYLDYTVNLTDNNIQLATKDTLVLRTRNVYGGKSLEVVRK-------------------------------------------------------------------------------------------------------------------------------------------------------------------------------------------------------------------------------------------------------------------------------------------------------------------------------------------------------------------------------------------------\n",
      "Labels:\n",
      "LLLLEEELSLSEEEEEEELSLLSSSLLHHHHTTEEEEEEEEESSSSLLSLEEEEEEELGGGGTTLEETTTLLBLEELLGGGEEESLSEEEELTTLSEEEEEEEELHHHHHSGGGGSSLEEEEEEEEEEESSSEELLLEESSSSLLTTLGGGEEELLLSEEEEEEEEELTTLEEEEEEEEEEEEETTEEEEEEELLSSGGGSEEEEEEESSSSEEEEEEEEELTTSLEEEEEEEEEELTTSEEEEEELSTTLEEEEEEEEEEEEETTLGGGSLEEEEEEEEEEEETTTTEEEEEEEEEEEEELLLLSEEELLEELL-------------------------------------------------------------------------------------------------------------------------------------------------------------------------------------------------------------------------------------------------------------------------------------------------------------------------------------------------------------------------------------------------\n",
      "train_x: (5534, 700, 44)\n",
      "train_y (5534, 700, 9)\n",
      "test_x: (514, 700, 44)\n",
      "test_y: (514, 700, 9)\n"
     ]
    }
   ],
   "source": [
    "# print a protein to see example representation (with character labels instead of one-hot vectors)\n",
    "cullpdb_loader.print_residues(train_x[0], labels=train_y[0], two_d=True)\n",
    "\n",
    "# print to verify data was loaded in correct shapes:\n",
    "print(\"train_x:\", train_x.shape)\n",
    "print(\"train_y\", train_y.shape)\n",
    "print(\"test_x:\", test_x.shape)\n",
    "print(\"test_y:\", test_y.shape)"
   ]
  },
  {
   "cell_type": "markdown",
   "metadata": {
    "deletable": true,
    "editable": true
   },
   "source": [
    "### Custom Accuracy Metric\n",
    "\n",
    "The default Keras accuracy metric does not compare observations and targets over multiple dimensions. A custom method to find  accuracy must be defined.\n",
    "<br><br>\n",
    "Here, a <b>mask</b> is created -- a matrix with ones where the target labels have labels that are not 'NoSeq', and zeros where the target labels are 'NoSeq'. We can then do a comparison between observed and target labels, and by multiplying the resulting boolean matrix by this mask, we ignore any right/wrong labels in the trailing 'NoSeq' region (that exists only to pad the protein to the correct length).\n",
    "<br><br>\n",
    "This gives an accuracy metric depending only on the non-'NoSeq' labels -- otherwise, the accuracy would be incorrectly inflated based on the easy-to-predict padding at the end."
   ]
  },
  {
   "cell_type": "code",
   "execution_count": 5,
   "metadata": {
    "collapsed": false,
    "deletable": true,
    "editable": true
   },
   "outputs": [],
   "source": [
    "# Second custom accuracy: ignore trailing noseq's\n",
    "def custom_acc(true, obs):\n",
    "    print(\"Using custom accuracy\")\n",
    "    if not SHOW_ACCURACY:\n",
    "        return K.constant(float('NaN'))\n",
    "    \n",
    "    # -1 = placeholder for whatever's left\n",
    "    obs = K.reshape(obs, [-1, 700, 9])\n",
    "    true = K.reshape(true, [-1, 700, 9])\n",
    "    \n",
    "    # convert one-hot vectors for residues to scalars\n",
    "    true_vals = K.argmax(true, axis=2)\n",
    "    obs_vals = K.argmax(obs, axis=2)\n",
    "    \n",
    "    # mask is 2D matrix with 1s in indices that are residues\n",
    "    # and 0s in indices that are 'NoSeq'\n",
    "    # subtract all 8's to shift 'NoSeq' values to zero\n",
    "    mask = K.sign(K.abs(true_vals - 8*K.ones_like(true_vals, dtype='int64')))\n",
    "    mask = K.cast(mask, dtype=K.floatx())\n",
    "    # 1D vector with each index the number of non-'NoSeq' residues \n",
    "    # in corresponding protein\n",
    "    length = K.sum(mask, axis=1)\n",
    "    \n",
    "    # compare observed and predicted values (cast from boolean to 1s and 0s),\n",
    "    # then multiply by mask to nullify any trailing 'NoSeq' equalities\n",
    "    comparison = K.cast(K.equal(true_vals, obs_vals), dtype=K.floatx())\n",
    "    comparison = comparison * mask\n",
    "    \n",
    "    # and return average\n",
    "    return K.sum(comparison) / K.sum(length)"
   ]
  },
  {
   "cell_type": "markdown",
   "metadata": {},
   "source": [
    "### Learning Rate Scheduler\n",
    "Decrease learning rate after certain number of epochs to make learning smoother."
   ]
  },
  {
   "cell_type": "code",
   "execution_count": 6,
   "metadata": {
    "collapsed": true
   },
   "outputs": [],
   "source": [
    "def lr_sched(epoch):\n",
    "    if epoch >= 30:\n",
    "        return LEARNING_RATE / 10\n",
    "    else:\n",
    "        return LEARNING_RATE"
   ]
  },
  {
   "cell_type": "markdown",
   "metadata": {
    "deletable": true,
    "editable": true
   },
   "source": [
    "### Block of convolutional and batch norm layers"
   ]
  },
  {
   "cell_type": "code",
   "execution_count": 7,
   "metadata": {
    "collapsed": false,
    "deletable": true,
    "editable": true
   },
   "outputs": [],
   "source": [
    "def add_block(input_tensor):\n",
    "    # 3 parallel convolutions -- see image below\n",
    "    # Each has 32 filters (ie the output dimension) and window sizes of 3, 7, and 9\n",
    "    # residues respectively.\n",
    "    c1 = layers.convolutional.Conv1D(32, 3, \n",
    "        activation='relu', padding='same',\n",
    "        kernel_regularizer=regularizers.l2(L2))(input_tensor)\n",
    "    c2 = layers.convolutional.Conv1D(32, 7, \n",
    "        activation='relu', padding='same',\n",
    "        kernel_regularizer=regularizers.l2(L2))(input_tensor)\n",
    "    c3 = layers.convolutional.Conv1D(32, 9, \n",
    "        activation='relu', padding='same',\n",
    "        kernel_regularizer=regularizers.l2(L2))(input_tensor)\n",
    "    \n",
    "    # depth stack of 3 convolutions with batch norm\n",
    "    merge1 = layers.concatenate([c1, c2, c3])\n",
    "    merge1 = layers.normalization.BatchNormalization()(merge1)\n",
    "    \n",
    "    # final singe convolution with batch norm\n",
    "    c4 = layers.convolutional.Conv1D(96, 9, \n",
    "        activation='relu', padding='same',\n",
    "        kernel_regularizer=regularizers.l2(L2))(merge1)\n",
    "    c4 = layers.normalization.BatchNormalization()(c4)\n",
    "    \n",
    "    # 1-window conv on inputs\n",
    "    c_skip = layers.convolutional.Conv1D(44, 1, \n",
    "        activation='relu', padding='same',\n",
    "        kernel_regularizer=regularizers.l2(L2))(input_tensor)\n",
    "    c_skip = layers.normalization.BatchNormalization()(c_skip)\n",
    "    \n",
    "    # depth concat of last conv, middle conv, and skip connection\n",
    "    merge2 = layers.concatenate([c4, merge1, c_skip])\n",
    "    \n",
    "    return merge2    "
   ]
  },
  {
   "cell_type": "markdown",
   "metadata": {
    "deletable": true,
    "editable": true
   },
   "source": [
    "## Model Architecture\n",
    "Using only one final fully connected layer; including convolutional layer before final feedforward layer to significantly reduce feature dimensionality.\n",
    "![](architecture.png)"
   ]
  },
  {
   "cell_type": "code",
   "execution_count": 8,
   "metadata": {
    "collapsed": false,
    "deletable": true,
    "editable": true
   },
   "outputs": [
    {
     "name": "stderr",
     "output_type": "stream",
     "text": [
      "C:\\Anaconda3\\envs\\sdscbio-gpu\\lib\\site-packages\\ipykernel\\__main__.py:25: UserWarning: Update your `Model` call to the Keras 2 API: `Model(inputs=Tensor(\"in..., outputs=Tensor(\"fl...)`\n"
     ]
    }
   ],
   "source": [
    "input_tensor = layers.Input(shape=INPUT_SHAPE)\n",
    "\n",
    "block1 = add_block(input_tensor)\n",
    "#block1 = input_tensor\n",
    "\n",
    "block2 = add_block(block1)\n",
    "\n",
    "with_input = layers.concatenate([block1, input_tensor])\n",
    "\n",
    "\n",
    "conv = layers.convolutional.Conv1D(100, 5, \n",
    "        activation='relu', padding='same',\n",
    "        kernel_regularizer=regularizers.l2(L2))(with_input)\n",
    "\n",
    "fbgru1 = layers.wrappers.Bidirectional(layers.recurrent.GRU(12, return_sequences=True))(conv)\n",
    "\n",
    "conv_with_recurrent = layers.concatenate([conv, fbgru1])\n",
    "\n",
    "output = layers.convolutional.Conv1D(OUTPUT_SIZE, 1, \n",
    "        activation='softmax', padding='same', name=\"OutputLayer\",\n",
    "        kernel_regularizer=regularizers.l2(L2))(conv_with_recurrent)\n",
    "\n",
    "output = layers.Flatten()(output)\n",
    "\n",
    "model = Model(inputs=input_tensor, outputs=output)"
   ]
  },
  {
   "cell_type": "markdown",
   "metadata": {
    "deletable": true,
    "editable": true
   },
   "source": [
    "### Compile the model given a loss function, optimizer, and learning rate (specified above)"
   ]
  },
  {
   "cell_type": "code",
   "execution_count": 9,
   "metadata": {
    "collapsed": false,
    "deletable": true,
    "editable": true
   },
   "outputs": [
    {
     "name": "stdout",
     "output_type": "stream",
     "text": [
      "Using custom accuracy\n"
     ]
    }
   ],
   "source": [
    "# optimizer= takes either string or optimizer object\n",
    "model.compile(loss=LOSS, optimizer=OPTIMIZER, metrics=[custom_acc])"
   ]
  },
  {
   "cell_type": "code",
   "execution_count": 10,
   "metadata": {
    "collapsed": false
   },
   "outputs": [
    {
     "name": "stdout",
     "output_type": "stream",
     "text": [
      "____________________________________________________________________________________________________\n",
      "Layer (type)                     Output Shape          Param #     Connected to                     \n",
      "====================================================================================================\n",
      "input_1 (InputLayer)             (None, 700, 44)       0                                            \n",
      "____________________________________________________________________________________________________\n",
      "conv1d_1 (Conv1D)                (None, 700, 32)       4256                                         \n",
      "____________________________________________________________________________________________________\n",
      "conv1d_2 (Conv1D)                (None, 700, 32)       9888                                         \n",
      "____________________________________________________________________________________________________\n",
      "conv1d_3 (Conv1D)                (None, 700, 32)       12704                                        \n",
      "____________________________________________________________________________________________________\n",
      "concatenate_1 (Concatenate)      (None, 700, 96)       0                                            \n",
      "____________________________________________________________________________________________________\n",
      "batch_normalization_1 (BatchNorm (None, 700, 96)       384                                          \n",
      "____________________________________________________________________________________________________\n",
      "conv1d_4 (Conv1D)                (None, 700, 96)       83040                                        \n",
      "____________________________________________________________________________________________________\n",
      "conv1d_5 (Conv1D)                (None, 700, 44)       1980                                         \n",
      "____________________________________________________________________________________________________\n",
      "batch_normalization_2 (BatchNorm (None, 700, 96)       384                                          \n",
      "____________________________________________________________________________________________________\n",
      "batch_normalization_3 (BatchNorm (None, 700, 44)       176                                          \n",
      "____________________________________________________________________________________________________\n",
      "concatenate_2 (Concatenate)      (None, 700, 236)      0                                            \n",
      "____________________________________________________________________________________________________\n",
      "concatenate_5 (Concatenate)      (None, 700, 280)      0                                            \n",
      "____________________________________________________________________________________________________\n",
      "conv1d_11 (Conv1D)               (None, 700, 100)      140100                                       \n",
      "____________________________________________________________________________________________________\n",
      "bidirectional_1 (Bidirectional)  (None, 700, 24)       8136                                         \n",
      "____________________________________________________________________________________________________\n",
      "concatenate_6 (Concatenate)      (None, 700, 124)      0                                            \n",
      "____________________________________________________________________________________________________\n",
      "OutputLayer (Conv1D)             (None, 700, 9)        1125                                         \n",
      "____________________________________________________________________________________________________\n",
      "flatten_1 (Flatten)              (None, 6300)          0                                            \n",
      "====================================================================================================\n",
      "Total params: 262,173.0\n",
      "Trainable params: 261,701.0\n",
      "Non-trainable params: 472.0\n",
      "____________________________________________________________________________________________________\n"
     ]
    }
   ],
   "source": [
    "model.summary()"
   ]
  },
  {
   "cell_type": "markdown",
   "metadata": {
    "deletable": true,
    "editable": true
   },
   "source": [
    "___\n",
    "### Train the model on training data against target training labels, show accuracy on validation data each epoch\n",
    "Here, the <b>val_loss</b> and <b>val_acc</b> are the loss and accuracy on the test data."
   ]
  },
  {
   "cell_type": "code",
   "execution_count": 11,
   "metadata": {
    "collapsed": false,
    "deletable": true,
    "editable": true
   },
   "outputs": [
    {
     "name": "stdout",
     "output_type": "stream",
     "text": [
      "Train on 5534 samples, validate on 514 samples\n",
      "Epoch 1/60\n",
      "83s - loss: 5284.7100 - custom_acc: 0.3408 - val_loss: 5366.7849 - val_custom_acc: 0.3182\n",
      "Epoch 2/60\n",
      "76s - loss: 4886.9927 - custom_acc: 0.4583 - val_loss: 5196.6999 - val_custom_acc: 0.4971\n",
      "Epoch 3/60\n",
      "76s - loss: 4835.5677 - custom_acc: 0.5761 - val_loss: 5175.2190 - val_custom_acc: 0.3772\n",
      "Epoch 4/60\n",
      "79s - loss: 4813.8331 - custom_acc: 0.6205 - val_loss: 5177.8237 - val_custom_acc: 0.3054\n",
      "Epoch 5/60\n",
      "75s - loss: 4798.4662 - custom_acc: 0.6460 - val_loss: 5160.2036 - val_custom_acc: 0.3140\n",
      "Epoch 6/60\n",
      "75s - loss: 4790.9424 - custom_acc: 0.6572 - val_loss: 5148.7552 - val_custom_acc: 0.3071\n",
      "Epoch 7/60\n",
      "75s - loss: 4787.0631 - custom_acc: 0.6628 - val_loss: 5078.9830 - val_custom_acc: 0.3405\n",
      "Epoch 8/60\n",
      "75s - loss: 4784.9538 - custom_acc: 0.6654 - val_loss: 5047.9854 - val_custom_acc: 0.3200\n",
      "Epoch 9/60\n",
      "76s - loss: 4780.7940 - custom_acc: 0.6716 - val_loss: 5014.3856 - val_custom_acc: 0.3416\n",
      "Epoch 10/60\n",
      "76s - loss: 4778.0596 - custom_acc: 0.6758 - val_loss: 4990.2939 - val_custom_acc: 0.3415\n",
      "Epoch 11/60\n",
      "76s - loss: 4776.2046 - custom_acc: 0.6785 - val_loss: 4940.9398 - val_custom_acc: 0.3596\n",
      "Epoch 12/60\n",
      "75s - loss: 4774.4400 - custom_acc: 0.6813 - val_loss: 4888.4376 - val_custom_acc: 0.4373\n",
      "Epoch 13/60\n",
      "75s - loss: 4772.6736 - custom_acc: 0.6839 - val_loss: 4871.8116 - val_custom_acc: 0.4636\n",
      "Epoch 14/60\n",
      "75s - loss: 4771.0708 - custom_acc: 0.6869 - val_loss: 4863.4068 - val_custom_acc: 0.4290\n",
      "Epoch 15/60\n",
      "76s - loss: 4770.6133 - custom_acc: 0.6876 - val_loss: 4819.3886 - val_custom_acc: 0.5357\n",
      "Epoch 16/60\n",
      "76s - loss: 4768.3556 - custom_acc: 0.6909 - val_loss: 4800.5325 - val_custom_acc: 0.5752\n",
      "Epoch 17/60\n",
      "75s - loss: 4766.8480 - custom_acc: 0.6936 - val_loss: 4790.0411 - val_custom_acc: 0.5671\n",
      "Epoch 18/60\n",
      "79s - loss: 4765.4270 - custom_acc: 0.6959 - val_loss: 4785.6396 - val_custom_acc: 0.5832\n",
      "Epoch 19/60\n",
      "77s - loss: 4764.2933 - custom_acc: 0.6978 - val_loss: 4771.2556 - val_custom_acc: 0.6189\n",
      "Epoch 20/60\n",
      "76s - loss: 4763.5216 - custom_acc: 0.6993 - val_loss: 4758.2524 - val_custom_acc: 0.6388\n",
      "Epoch 21/60\n",
      "75s - loss: 4762.1732 - custom_acc: 0.7014 - val_loss: 4753.2755 - val_custom_acc: 0.6433\n",
      "Epoch 22/60\n",
      "75s - loss: 4762.2210 - custom_acc: 0.7016 - val_loss: 4752.3432 - val_custom_acc: 0.6466\n",
      "Epoch 23/60\n",
      "76s - loss: 4760.2730 - custom_acc: 0.7047 - val_loss: 4749.3866 - val_custom_acc: 0.6479\n",
      "Epoch 24/60\n",
      "75s - loss: 4759.8129 - custom_acc: 0.7056 - val_loss: 4745.5210 - val_custom_acc: 0.6502\n",
      "Epoch 25/60\n",
      "76s - loss: 4759.3801 - custom_acc: 0.7063 - val_loss: 4745.2667 - val_custom_acc: 0.6504\n",
      "Epoch 26/60\n",
      "76s - loss: 4757.2307 - custom_acc: 0.7102 - val_loss: 4752.5635 - val_custom_acc: 0.6380\n",
      "Epoch 27/60\n",
      "75s - loss: 4756.9590 - custom_acc: 0.7102 - val_loss: 4749.0391 - val_custom_acc: 0.6415\n",
      "Epoch 28/60\n",
      "76s - loss: 4755.5815 - custom_acc: 0.7133 - val_loss: 4742.4602 - val_custom_acc: 0.6566\n",
      "Epoch 29/60\n",
      "76s - loss: 4755.0246 - custom_acc: 0.7137 - val_loss: 4744.0159 - val_custom_acc: 0.6484\n",
      "Epoch 30/60\n",
      "79s - loss: 4754.1347 - custom_acc: 0.7151 - val_loss: 4741.0605 - val_custom_acc: 0.6595\n",
      "Epoch 31/60\n",
      "79s - loss: 4751.7182 - custom_acc: 0.7196 - val_loss: 4738.9813 - val_custom_acc: 0.6636\n",
      "Epoch 32/60\n",
      "78s - loss: 4751.1961 - custom_acc: 0.7205 - val_loss: 4738.4886 - val_custom_acc: 0.6657\n",
      "Epoch 33/60\n",
      "80s - loss: 4750.9922 - custom_acc: 0.7208 - val_loss: 4738.1076 - val_custom_acc: 0.6673\n",
      "Epoch 34/60\n",
      "75s - loss: 4750.7891 - custom_acc: 0.7211 - val_loss: 4738.1004 - val_custom_acc: 0.6679\n",
      "Epoch 35/60\n",
      "75s - loss: 4750.9233 - custom_acc: 0.7208 - val_loss: 4737.9182 - val_custom_acc: 0.6689\n",
      "Epoch 36/60\n",
      "76s - loss: 4750.6845 - custom_acc: 0.7213 - val_loss: 4737.4890 - val_custom_acc: 0.6706\n",
      "Epoch 37/60\n",
      "79s - loss: 4750.5144 - custom_acc: 0.7216 - val_loss: 4737.4746 - val_custom_acc: 0.6709\n",
      "Epoch 38/60\n",
      "76s - loss: 4750.3751 - custom_acc: 0.7220 - val_loss: 4737.6220 - val_custom_acc: 0.6712\n",
      "Epoch 39/60\n",
      "81s - loss: 4750.1533 - custom_acc: 0.7223 - val_loss: 4738.0422 - val_custom_acc: 0.6703\n",
      "Epoch 40/60\n",
      "76s - loss: 4750.0751 - custom_acc: 0.7223 - val_loss: 4737.5638 - val_custom_acc: 0.6709\n",
      "Epoch 41/60\n",
      "75s - loss: 4749.8929 - custom_acc: 0.7226 - val_loss: 4738.1098 - val_custom_acc: 0.6705\n",
      "Epoch 42/60\n",
      "81s - loss: 4749.8500 - custom_acc: 0.7228 - val_loss: 4737.9231 - val_custom_acc: 0.6700\n",
      "Epoch 43/60\n",
      "76s - loss: 4749.5952 - custom_acc: 0.7233 - val_loss: 4737.7063 - val_custom_acc: 0.6712\n",
      "Epoch 44/60\n",
      "77s - loss: 4749.5555 - custom_acc: 0.7234 - val_loss: 4737.7602 - val_custom_acc: 0.6717\n",
      "Epoch 45/60\n",
      "76s - loss: 4749.3986 - custom_acc: 0.7237 - val_loss: 4737.8551 - val_custom_acc: 0.6709\n",
      "Epoch 46/60\n",
      "76s - loss: 4749.2700 - custom_acc: 0.7238 - val_loss: 4737.7968 - val_custom_acc: 0.6714\n",
      "Epoch 47/60\n",
      "77s - loss: 4749.0439 - custom_acc: 0.7242 - val_loss: 4737.7919 - val_custom_acc: 0.6718\n",
      "Epoch 48/60\n",
      "86s - loss: 4749.0993 - custom_acc: 0.7240 - val_loss: 4737.7462 - val_custom_acc: 0.6713\n",
      "Epoch 49/60\n",
      "80s - loss: 4749.1536 - custom_acc: 0.7238 - val_loss: 4738.4666 - val_custom_acc: 0.6708\n",
      "Epoch 50/60\n",
      "80s - loss: 4748.7722 - custom_acc: 0.7245 - val_loss: 4738.8163 - val_custom_acc: 0.6706\n",
      "Epoch 51/60\n",
      "80s - loss: 4748.5935 - custom_acc: 0.7248 - val_loss: 4737.7735 - val_custom_acc: 0.6722\n",
      "Epoch 52/60\n",
      "80s - loss: 4748.4111 - custom_acc: 0.7253 - val_loss: 4737.7712 - val_custom_acc: 0.6723\n",
      "Epoch 53/60\n",
      "89s - loss: 4748.2065 - custom_acc: 0.7254 - val_loss: 4737.7703 - val_custom_acc: 0.6723\n",
      "Epoch 54/60\n",
      "78s - loss: 4748.1387 - custom_acc: 0.7256 - val_loss: 4737.9658 - val_custom_acc: 0.6719\n",
      "Epoch 55/60\n",
      "76s - loss: 4748.0501 - custom_acc: 0.7258 - val_loss: 4738.1703 - val_custom_acc: 0.6714\n",
      "Epoch 56/60\n",
      "77s - loss: 4747.8454 - custom_acc: 0.7259 - val_loss: 4737.7880 - val_custom_acc: 0.6719\n",
      "Epoch 57/60\n",
      "76s - loss: 4747.6998 - custom_acc: 0.7264 - val_loss: 4738.2496 - val_custom_acc: 0.6716\n",
      "Epoch 58/60\n",
      "76s - loss: 4747.6838 - custom_acc: 0.7263 - val_loss: 4737.7689 - val_custom_acc: 0.6729\n",
      "Epoch 59/60\n",
      "76s - loss: 4747.6543 - custom_acc: 0.7263 - val_loss: 4739.0456 - val_custom_acc: 0.6708\n",
      "Epoch 60/60\n",
      "75s - loss: 4747.3857 - custom_acc: 0.7270 - val_loss: 4737.7365 - val_custom_acc: 0.6720\n",
      "Done training\n"
     ]
    }
   ],
   "source": [
    "# Reshape the labels into a 2D matrix to make accuracy checks easier later on\n",
    "train_y = train_y.reshape(len(train_y), NUM_CLASSES*NUM_RESIDUES)\n",
    "test_y = test_y.reshape(len(test_y), NUM_CLASSES*NUM_RESIDUES)\n",
    "\n",
    "# Training\n",
    "# verbose: 0 for no logging to stdout, 1 for progress bar logging, 2 for one log line per epoch.\n",
    "hist = model.fit(train_x, train_y, epochs=EPOCHS, shuffle=True, verbose=2,\n",
    "                 batch_size=MINIBATCH, validation_data=(test_x, test_y),\n",
    "                callbacks=[keras.callbacks.LearningRateScheduler(lr_sched)])\n",
    "print(\"Done training\")"
   ]
  },
  {
   "cell_type": "code",
   "execution_count": null,
   "metadata": {
    "collapsed": true,
    "deletable": true,
    "editable": true
   },
   "outputs": [],
   "source": [
    "# Reshape labels back to original shape\n",
    "train_y = train_y.reshape(-1, NUM_RESIDUES, NUM_CLASSES)\n",
    "test_y = test_y.reshape(-1, NUM_RESIDUES, NUM_CLASSES)"
   ]
  },
  {
   "cell_type": "code",
   "execution_count": 12,
   "metadata": {
    "collapsed": false,
    "deletable": true,
    "editable": true
   },
   "outputs": [
    {
     "name": "stdout",
     "output_type": "stream",
     "text": [
      "model saved.\n"
     ]
    }
   ],
   "source": [
    "model.save(SAVE_FILE)\n",
    "print(\"model saved.\")"
   ]
  },
  {
   "cell_type": "code",
   "execution_count": 13,
   "metadata": {
    "collapsed": false,
    "deletable": true,
    "editable": true
   },
   "outputs": [
    {
     "data": {
      "text/plain": [
       "[<matplotlib.lines.Line2D at 0x15e32ba8>]"
      ]
     },
     "execution_count": 13,
     "metadata": {},
     "output_type": "execute_result"
    },
    {
     "data": {
      "image/png": "[encoded data removed]",
      "text/plain": [
       "<matplotlib.figure.Figure at 0x10689358>"
      ]
     },
     "metadata": {},
     "output_type": "display_data"
    }
   ],
   "source": [
    "test_acc = list(hist.history.values())[2]\n",
    "plt.plot(range(EPOCHS), test_acc)"
   ]
  },
  {
   "cell_type": "markdown",
   "metadata": {
    "deletable": true,
    "editable": true
   },
   "source": [
    "## Test on cb513"
   ]
  },
  {
   "cell_type": "code",
   "execution_count": null,
   "metadata": {
    "collapsed": true,
    "deletable": true,
    "editable": true
   },
   "outputs": [],
   "source": [
    "from keras.models import load_model\n",
    "model = load_model(SAVE_FILE)"
   ]
  },
  {
   "cell_type": "code",
   "execution_count": null,
   "metadata": {
    "collapsed": false,
    "deletable": true,
    "editable": true
   },
   "outputs": [],
   "source": [
    "test_acc = model.evaluate(test_x, test_y)\n",
    "print(test_acc)"
   ]
  },
  {
   "cell_type": "code",
   "execution_count": null,
   "metadata": {
    "collapsed": false,
    "deletable": true,
    "editable": true
   },
   "outputs": [],
   "source": [
    "i = 3\n",
    "prediction = model.predict(test_x[i:i+1])\n",
    "prediction = prediction.reshape(700, 9)\n",
    "print(\"Shape:\", prediction.shape)"
   ]
  },
  {
   "cell_type": "code",
   "execution_count": null,
   "metadata": {
    "collapsed": false,
    "deletable": true,
    "editable": true
   },
   "outputs": [],
   "source": [
    "print(\"Expected:\\n\")\n",
    "_ = cullpdb_loader.print_residues(test_x[i], labels=test_y[i], two_d=True)\n",
    "print(\"\\nPredicted:\\n\")\n",
    "_ = cullpdb_loader.print_residues(test_x[i], labels=prediction, two_d=True)"
   ]
  },
  {
   "cell_type": "code",
   "execution_count": null,
   "metadata": {
    "collapsed": true,
    "deletable": true,
    "editable": true
   },
   "outputs": [],
   "source": []
  }
 ],
 "metadata": {
  "anaconda-cloud": {},
  "kernelspec": {
   "display_name": "Python [conda env:sdscbio-gpu]",
   "language": "python",
   "name": "conda-env-sdscbio-gpu-py"
  },
  "language_info": {
   "codemirror_mode": {
    "name": "ipython",
    "version": 3
   },
   "file_extension": ".py",
   "mimetype": "text/x-python",
   "name": "python",
   "nbconvert_exporter": "python",
   "pygments_lexer": "ipython3",
   "version": "3.5.3"
  }
 },
 "nbformat": 4,
 "nbformat_minor": 1
}
