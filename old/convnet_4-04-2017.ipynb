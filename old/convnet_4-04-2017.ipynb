{
 "cells": [
  {
   "cell_type": "markdown",
   "metadata": {
    "deletable": true,
    "editable": true
   },
   "source": [
    "# Simple Convolutional Q8 Classification -- 4/04/2017\n",
    "<pre>\n",
    "3 conv (10 filters), 1 dense: 8 epochs, lr=0.001, l2=0.01, RMSprop, train acc = 51.58%, test acc = 42.67%\n",
    "3 conv (10 filters), 1 dense: 120 epochs, lr=0.001, l2=0.1, RMSprop, train acc = 51.91%, test acc = 46.91% (peak 47.22 at epoch 114) (242s/epoch)"
   ]
  },
  {
   "cell_type": "markdown",
   "metadata": {
    "deletable": true,
    "editable": true
   },
   "source": [
    "## Imports"
   ]
  },
  {
   "cell_type": "code",
   "execution_count": 9,
   "metadata": {
    "collapsed": false,
    "deletable": true,
    "editable": true
   },
   "outputs": [],
   "source": [
    "import numpy as np\n",
    "import tensorflow as tf\n",
    "import matplotlib.pyplot as plt\n",
    "%matplotlib inline\n",
    "\n",
    "from keras import backend as K\n",
    "from keras.models import Sequential, load_model\n",
    "from keras.layers import Dense, Activation, Flatten, Reshape\n",
    "from keras.layers.convolutional import Conv1D\n",
    "from keras import optimizers\n",
    "from keras import regularizers\n",
    "\n",
    "\n",
    "import cullpdb_loader"
   ]
  },
  {
   "cell_type": "markdown",
   "metadata": {
    "deletable": true,
    "editable": true
   },
   "source": [
    "## Constants and Hyperparameters\n",
    "Declare constants about data such as the length of a protein and the number of possible residues and classes.\n",
    "<br><br>\n",
    "Declare hyperparameters about model such as learning rate, number of epochs of training (how many iterations through the entire data set to train for), etc."
   ]
  },
  {
   "cell_type": "code",
   "execution_count": 12,
   "metadata": {
    "collapsed": false,
    "deletable": true,
    "editable": true
   },
   "outputs": [],
   "source": [
    "NUM_RESIDUES = 700           # per protein\n",
    "RESIDUE_SIZE = 22   \n",
    "NUM_CLASSES = 9              # 8 + 'NoSeq'\n",
    "PSSM_SIZE = 22\n",
    "NUM_FEATURES = RESIDUE_SIZE  # size of one hot vector per residue\n",
    "\n",
    "PSSM = False\n",
    "if PSSM:\n",
    "    NUM_FEATURES += PSSM_SIZE\n",
    "\n",
    "FILTERS = 10       # Dimensions output by conv layer\n",
    "WINDOW_SIZE = 11  # \"scope\" of convolution (ie 11 total residues)\n",
    "\n",
    "TWO_D = True\n",
    "if TWO_D:\n",
    "    INPUT_SHAPE = (NUM_RESIDUES, NUM_FEATURES)  # see below\n",
    "else:\n",
    "    INPUT_SHAPE = (NUM_RESIDUES * NUM_FEATURES,)\n",
    "OUTPUT_SIZE = NUM_CLASSES*NUM_RESIDUES      # output matrix holding predictions\n",
    "\n",
    "LEARNING_RATE = 0.001\n",
    "# regularization factor\n",
    "L2 = 0.1\n",
    "EPOCHS = 500  # iterations of training, total dataset covered once each epoch\n",
    "LOSS='categorical_crossentropy'\n",
    "OPTIMIZER = optimizers.RMSprop(lr=LEARNING_RATE)\n",
    "\n",
    "SHOW_ACCURACY = True  # set to False for quicker train ops\n",
    "\n",
    "SAVE_FILE = \"models/conv-filtered-4-05\"\n",
    "DATA = \"data/cullpdb+profile_6133.npy.gz\"\n",
    "DATA_FILTERED = \"data/cullpdb+profile_6133_filtered.npy.gz\"\n",
    "DATA_TEST = \"data/cb513+profile_split1.npy.gz\""
   ]
  },
  {
   "cell_type": "markdown",
   "metadata": {
    "deletable": true,
    "editable": true
   },
   "source": [
    "## Load Data\n",
    "<b>Data:</b><br> _x represents input proteins, _y represents target structure classifications (each as one-hot vectors) <br><br>\n",
    "<b>Data Shape:</b><br> First dimension represents number of proteins, second number of residues per protein, and third size of residue or structure vector.<br> For example, train_x without pssm is shape (5600, 700, 22): it is an <b>m \\* n \\* p</b> matrix where there are <b>m</b> proteins (each row), <b>n</b> residues per protein (each column), and <b>p</b> sized vectors to represent a single residue or a single structure (each \"slice\")."
   ]
  },
  {
   "cell_type": "code",
   "execution_count": 3,
   "metadata": {
    "collapsed": false,
    "deletable": true,
    "editable": true
   },
   "outputs": [
    {
     "name": "stdout",
     "output_type": "stream",
     "text": [
      "Loading protein residues and labels...\n",
      "Loading file from C:\\SANJAY\\CS\\Projects\\sdscbio\\data\\cullpdb+profile_6133_filtered.npy.gz...\n",
      "File Loaded.\n",
      "Loaded protein residues and labels.\n",
      "Reshaping...\n",
      "Reshaped\n",
      "Loading file from C:\\SANJAY\\CS\\Projects\\sdscbio\\data\\cb513+profile_split1.npy.gz...\n",
      "File Loaded.\n",
      "Residues:\n",
      "FDYQTVYFANQYGLRTIELGESEFVDNTLDNQHKXVIKAAWGGGYTNRNNVVINFKVDESLCDNLYFKDTDQPLVPXPASYYTLASDRIAIPKGQIXAGVEVQLTDDFFADEKSISENYVIPLLXTNVQGADSILQGKPVVENPVLTNAGDWSILPQNFVLYAVKYVNPWHGEYLRRGIDHATVAGTSKDIIRHEQFVENDEVVNISTKSXKDNLLTLKTKDESGKDISYTVRLSFAEDGSCTVHSGSQNVVVSGSGKFVSKGEKNSLGGKDRNAIYLDYTVNLTDNNIQLATKDTLVLRTRNVYGGKSLEVVRK-------------------------------------------------------------------------------------------------------------------------------------------------------------------------------------------------------------------------------------------------------------------------------------------------------------------------------------------------------------------------------------------------\n",
      "Labels:\n",
      "LLLLEEELSLSEEEEEEELSLLSSSLLHHHHTTEEEEEEEEESSSSLLSLEEEEEEELGGGGTTLEETTTLLBLEELLGGGEEESLSEEEELTTLSEEEEEEEELHHHHHSGGGGSSLEEEEEEEEEEESSSEELLLEESSSSLLTTLGGGEEELLLSEEEEEEEEELTTLEEEEEEEEEEEEETTEEEEEEELLSSGGGSEEEEEEESSSSEEEEEEEEELTTSLEEEEEEEEEELTTSEEEEEELSTTLEEEEEEEEEEEEETTLGGGSLEEEEEEEEEEEETTTTEEEEEEEEEEEEELLLLSEEELLEELL-------------------------------------------------------------------------------------------------------------------------------------------------------------------------------------------------------------------------------------------------------------------------------------------------------------------------------------------------------------------------------------------------\n",
      "train_x: (5534, 700, 22)\n",
      "train_y (5534, 6300)\n",
      "test_x: (514, 700, 22)\n",
      "test_y: (514, 6300)\n"
     ]
    }
   ],
   "source": [
    "train = cullpdb_loader.load_residues(DATA_FILTERED, split=False, two_d=TWO_D, pssm=PSSM)  # load from my helper file\n",
    "\n",
    "test = cullpdb_loader.load_cb513(DATA_TEST, two_d=TWO_D, pssm=PSSM)\n",
    "\n",
    "# train, validation, and test were loaded as tuples of (input, output);\n",
    "# here we unpack them into separate variables:\n",
    "train_x, train_y = train\n",
    "test_x, test_y = test\n",
    "\n",
    "# print a protein to see example representation (with character labels instead of one-hot vectors)\n",
    "cullpdb_loader.print_residues(train_x[0], labels=train_y[0], two_d=TWO_D)\n",
    "\n",
    "# reshape the labels into a 2D matrix to make accuracy checks easier later on\n",
    "train_y = train_y.reshape(len(train_y), NUM_CLASSES*NUM_RESIDUES)\n",
    "test_y = test_y.reshape(len(test_y), NUM_CLASSES*NUM_RESIDUES)\n",
    "\n",
    "\n",
    "# print to verify data was loaded in correct shapes:\n",
    "print(\"train_x:\", train_x.shape)\n",
    "print(\"train_y\", train_y.shape)\n",
    "print(\"test_x:\", test_x.shape)\n",
    "print(\"test_y:\", test_y.shape)"
   ]
  },
  {
   "cell_type": "markdown",
   "metadata": {
    "deletable": true,
    "editable": true
   },
   "source": [
    "### Custom Accuracy Metric\n",
    "\n",
    "The default Keras accuracy metric does not compare observations and targets over multiple dimensions. A custom method to find  accuracy must be defined.\n",
    "<br><br>\n",
    "Here, a <b>mask</b> is created -- a matrix with ones where the target labels have labels that are not 'NoSeq', and zeros where the target labels are 'NoSeq'. We can then do a comparison between observed and target labels, and by multiplying the resulting boolean matrix by this mask, we ignore any right/wrong labels in the trailing 'NoSeq' region (that exists only to pad the protein to the correct length).\n",
    "<br><br>\n",
    "This gives an accuracy metric depending only on the non-'NoSeq' labels."
   ]
  },
  {
   "cell_type": "code",
   "execution_count": 4,
   "metadata": {
    "collapsed": false,
    "deletable": true,
    "editable": true
   },
   "outputs": [],
   "source": [
    "# Second custom accuracy: ignore trailing noseq's\n",
    "def custom_acc(true, obs):\n",
    "    print(\"Using custom accuracy\")\n",
    "    if not SHOW_ACCURACY:\n",
    "        return K.constant(float('NaN'))\n",
    "    \n",
    "    # -1 = placeholder for whatever's left\n",
    "    obs = K.reshape(obs, [-1, 700, 9])\n",
    "    true = K.reshape(true, [-1, 700, 9])\n",
    "    \n",
    "    # convert one-hot vectors for residues to scalars\n",
    "    true_vals = K.argmax(true, axis=2)\n",
    "    obs_vals = K.argmax(obs, axis=2)\n",
    "    \n",
    "    # mask is 2D matrix with 1s in indices that are residues\n",
    "    # and 0s in indices that are 'NoSeq'\n",
    "    # subtract all 8's to shift 'NoSeq' values to zero\n",
    "    mask = K.sign(K.abs(true_vals - 8*K.ones_like(true_vals, dtype='int64')))\n",
    "    mask = K.cast(mask, dtype=K.floatx())\n",
    "    # 1D vector with each index the number of non-'NoSeq' residues \n",
    "    # in corresponding protein\n",
    "    length = K.sum(mask, axis=1)\n",
    "    \n",
    "    # compare observed and predicted values (cast from boolean to 1s and 0s),\n",
    "    # then multiply by mask to nullify any trailing 'NoSeq' equalities\n",
    "    comparison = K.cast(K.equal(true_vals, obs_vals), dtype=K.floatx())\n",
    "    comparison = comparison * mask\n",
    "    \n",
    "    # and return average\n",
    "    return K.sum(comparison) / K.sum(length)"
   ]
  },
  {
   "cell_type": "markdown",
   "metadata": {
    "deletable": true,
    "editable": true
   },
   "source": [
    "## Model Architecture\n",
    "The model is constructed to currently have 3 convolutional layers.<br><br>\n",
    "A convolutional window \"slides\" across the input, each time taking the nearest <i>WINDOW_SIZE</i> number of features (residues) as inputs and outputing a single vector of dimension <i>FILTERS</i>. It performs this operation similarly to a usual perceptron, with a weight matrix and a gate function/nonlinearity.\n",
    "<br><br>\n",
    "This 3d data (samples, Protein Length, <i>FILTERS</i>) is flattened to 2d (samples, Length \\* <i>FILTERS</i>). Finally a \"dense\", fully connected layer (A vanilla neural network/multiperceptron layer) reduces the dimensionality of the data from the previous <i>FILTERS</i> dimensions to <i>OUTPUT_SIZE</i> dimensions (here 9, 8 for each secondary structure class and 1 for None)."
   ]
  },
  {
   "cell_type": "code",
   "execution_count": 13,
   "metadata": {
    "collapsed": false,
    "deletable": true,
    "editable": true
   },
   "outputs": [],
   "source": [
    "model = Sequential()\n",
    "\n",
    "# border_mode indicates how the convolution handles the edges of the input (where the window \"sticks out\").\n",
    "# The 'same' setting pads the inputs with zeros on either side.\n",
    "# Only the first layer requires an input_shape parameter; successive layers infer it from within the model.\n",
    "\n",
    "# 1st layer\n",
    "model.add(Conv1D(\n",
    "        FILTERS, WINDOW_SIZE, activation='tanh', padding='same', \n",
    "        kernel_regularizer=regularizers.l2(L2), input_shape=INPUT_SHAPE))\n",
    "# 2nd layer\n",
    "model.add(Conv1D(\n",
    "        FILTERS, WINDOW_SIZE, activation='tanh', padding='same',\n",
    "        kernel_regularizer=regularizers.l2(L2)))\n",
    "# 3rd layer\n",
    "model.add(Conv1D(\n",
    "        FILTERS, WINDOW_SIZE, activation='tanh', padding='same',\n",
    "        kernel_regularizer=regularizers.l2(L2)))\n",
    "# 4th layer\n",
    "#model.add(Conv1D(\n",
    "#        FILTERS, WINDOW_SIZE, activation='tanh', padding='same'))\n",
    "# 5th layer\n",
    "#model.add(Conv1D(\n",
    "#        FILTERS, WINDOW_SIZE, activation='tanh', padding='same'))\n",
    "\n",
    "model.add(Flatten())\n",
    "\n",
    "model.add(Dense(OUTPUT_SIZE, name=\"OutputLayer\", activation='softmax',\n",
    "        kernel_regularizer=regularizers.l2(L2)))\n",
    "#model.add(Reshape((NUM_RESIDUES, NUM_CLASSES)))"
   ]
  },
  {
   "cell_type": "markdown",
   "metadata": {
    "deletable": true,
    "editable": true
   },
   "source": [
    "### Compile the model given a loss function, optimizer, and learning rate (specified above)"
   ]
  },
  {
   "cell_type": "code",
   "execution_count": 14,
   "metadata": {
    "collapsed": false,
    "deletable": true,
    "editable": true
   },
   "outputs": [
    {
     "name": "stdout",
     "output_type": "stream",
     "text": [
      "Using custom accuracy\n"
     ]
    }
   ],
   "source": [
    "# optimizer= takes either string or optimizer object\n",
    "model.compile(loss=LOSS, optimizer=OPTIMIZER, metrics=[custom_acc])"
   ]
  },
  {
   "cell_type": "markdown",
   "metadata": {
    "deletable": true,
    "editable": true
   },
   "source": [
    "### Train the model on training data against target training labels, show accuracy on validation data each epoch\n",
    "Here, the <b>val_loss</b> and <b>val_acc</b> are the loss and accuracy on the test data. The loss is output by the cost function and has no absolute meaning by value, but relative values are important: we want them to decrease."
   ]
  },
  {
   "cell_type": "code",
   "execution_count": 15,
   "metadata": {
    "collapsed": false,
    "deletable": true,
    "editable": true
   },
   "outputs": [
    {
     "name": "stdout",
     "output_type": "stream",
     "text": [
      "Train on 5534 samples, validate on 514 samples\n",
      "Epoch 1/500\n",
      "244s - loss: 5118.7703 - custom_acc: 0.2851 - val_loss: 4959.7049 - val_custom_acc: 0.2711\n",
      "Epoch 2/500\n",
      "245s - loss: 5033.5898 - custom_acc: 0.3167 - val_loss: 4936.6955 - val_custom_acc: 0.2909\n",
      "Epoch 3/500\n",
      "268s - loss: 5022.3450 - custom_acc: 0.3351 - val_loss: 4965.0760 - val_custom_acc: 0.3162\n",
      "Epoch 4/500\n",
      "269s - loss: 5017.5756 - custom_acc: 0.3759 - val_loss: 4972.4184 - val_custom_acc: 0.3689\n",
      "Epoch 5/500\n",
      "248s - loss: 5012.2354 - custom_acc: 0.4040 - val_loss: 4930.2070 - val_custom_acc: 0.3869\n",
      "Epoch 6/500\n",
      "247s - loss: 5006.7090 - custom_acc: 0.4164 - val_loss: 4944.7786 - val_custom_acc: 0.4008\n",
      "Epoch 7/500\n",
      "248s - loss: 5002.2935 - custom_acc: 0.4259 - val_loss: 4926.0121 - val_custom_acc: 0.4016\n",
      "Epoch 8/500\n",
      "247s - loss: 5000.4473 - custom_acc: 0.4310 - val_loss: 4935.8868 - val_custom_acc: 0.4049\n",
      "Epoch 9/500\n",
      "247s - loss: 4999.1368 - custom_acc: 0.4345 - val_loss: 4934.6504 - val_custom_acc: 0.4066\n",
      "Epoch 10/500\n",
      "247s - loss: 4998.5031 - custom_acc: 0.4386 - val_loss: 4930.1338 - val_custom_acc: 0.4109\n",
      "Epoch 11/500\n",
      "248s - loss: 4996.7374 - custom_acc: 0.4424 - val_loss: 4925.4161 - val_custom_acc: 0.4129\n",
      "Epoch 12/500\n",
      "248s - loss: 4995.5600 - custom_acc: 0.4475 - val_loss: 4935.0520 - val_custom_acc: 0.4182\n",
      "Epoch 13/500\n",
      "247s - loss: 4994.4050 - custom_acc: 0.4522 - val_loss: 4928.5479 - val_custom_acc: 0.4190\n",
      "Epoch 14/500\n",
      "248s - loss: 4993.6486 - custom_acc: 0.4560 - val_loss: 4933.4221 - val_custom_acc: 0.4199\n",
      "Epoch 15/500\n",
      "247s - loss: 4992.9122 - custom_acc: 0.4587 - val_loss: 4932.4840 - val_custom_acc: 0.4218\n",
      "Epoch 16/500\n",
      "251s - loss: 4992.2987 - custom_acc: 0.4611 - val_loss: 4934.0417 - val_custom_acc: 0.4211\n",
      "Epoch 17/500\n",
      "259s - loss: 4991.3647 - custom_acc: 0.4629 - val_loss: 4926.6409 - val_custom_acc: 0.4232\n",
      "Epoch 18/500\n",
      "261s - loss: 4990.6977 - custom_acc: 0.4649 - val_loss: 4926.3050 - val_custom_acc: 0.4249\n",
      "Epoch 19/500\n",
      "261s - loss: 4989.7744 - custom_acc: 0.4665 - val_loss: 4931.3575 - val_custom_acc: 0.4247\n",
      "Epoch 20/500\n",
      "258s - loss: 4989.6950 - custom_acc: 0.4676 - val_loss: 4933.0660 - val_custom_acc: 0.4258\n",
      "Epoch 21/500\n",
      "245s - loss: 4989.7482 - custom_acc: 0.4689 - val_loss: 4942.6751 - val_custom_acc: 0.4279\n",
      "Epoch 22/500\n",
      "259s - loss: 4989.3817 - custom_acc: 0.4700 - val_loss: 4935.9796 - val_custom_acc: 0.4280\n",
      "Epoch 23/500\n",
      "254s - loss: 4989.5353 - custom_acc: 0.4712 - val_loss: 4961.1750 - val_custom_acc: 0.4301\n",
      "Epoch 24/500\n",
      "250s - loss: 4987.8741 - custom_acc: 0.4721 - val_loss: 4928.5510 - val_custom_acc: 0.4289\n",
      "Epoch 25/500\n",
      "268s - loss: 4987.2973 - custom_acc: 0.4730 - val_loss: 4932.6019 - val_custom_acc: 0.4295\n",
      "Epoch 26/500\n",
      "277s - loss: 4987.6694 - custom_acc: 0.4745 - val_loss: 4930.4807 - val_custom_acc: 0.4311\n",
      "Epoch 27/500\n",
      "251s - loss: 4987.0247 - custom_acc: 0.4750 - val_loss: 4940.0159 - val_custom_acc: 0.4303\n",
      "Epoch 28/500\n",
      "252s - loss: 4987.0151 - custom_acc: 0.4757 - val_loss: 4933.2153 - val_custom_acc: 0.4315\n",
      "Epoch 29/500\n",
      "252s - loss: 4987.3787 - custom_acc: 0.4766 - val_loss: 4939.5467 - val_custom_acc: 0.4308\n",
      "Epoch 30/500\n",
      "251s - loss: 4986.0756 - custom_acc: 0.4772 - val_loss: 4930.1331 - val_custom_acc: 0.4324\n",
      "Epoch 31/500\n",
      "252s - loss: 4986.7926 - custom_acc: 0.4785 - val_loss: 4948.4676 - val_custom_acc: 0.4358\n",
      "Epoch 32/500\n",
      "252s - loss: 4986.0077 - custom_acc: 0.4795 - val_loss: 4934.3092 - val_custom_acc: 0.4357\n",
      "Epoch 33/500\n",
      "251s - loss: 4985.2759 - custom_acc: 0.4803 - val_loss: 4932.9620 - val_custom_acc: 0.4339\n",
      "Epoch 34/500\n",
      "252s - loss: 4985.3564 - custom_acc: 0.4806 - val_loss: 4943.8667 - val_custom_acc: 0.4327\n",
      "Epoch 35/500\n",
      "252s - loss: 4985.4500 - custom_acc: 0.4816 - val_loss: 4930.7113 - val_custom_acc: 0.4343\n",
      "Epoch 36/500\n",
      "251s - loss: 4985.2628 - custom_acc: 0.4824 - val_loss: 4927.5030 - val_custom_acc: 0.4351\n",
      "Epoch 37/500\n",
      "252s - loss: 4985.5188 - custom_acc: 0.4831 - val_loss: 4926.5744 - val_custom_acc: 0.4357\n",
      "Epoch 38/500\n",
      "252s - loss: 4984.1055 - custom_acc: 0.4835 - val_loss: 4930.0824 - val_custom_acc: 0.4352\n",
      "Epoch 39/500\n",
      "253s - loss: 4984.3342 - custom_acc: 0.4844 - val_loss: 4946.6685 - val_custom_acc: 0.4366\n",
      "Epoch 40/500\n",
      "252s - loss: 4984.7501 - custom_acc: 0.4850 - val_loss: 4931.4201 - val_custom_acc: 0.4362\n",
      "Epoch 41/500\n",
      "251s - loss: 4983.6815 - custom_acc: 0.4858 - val_loss: 4933.3374 - val_custom_acc: 0.4361\n",
      "Epoch 42/500\n",
      "250s - loss: 4984.5332 - custom_acc: 0.4859 - val_loss: 4934.6448 - val_custom_acc: 0.4376\n",
      "Epoch 43/500\n",
      "252s - loss: 4982.8809 - custom_acc: 0.4864 - val_loss: 4933.7536 - val_custom_acc: 0.4370\n",
      "Epoch 44/500\n",
      "250s - loss: 4984.5594 - custom_acc: 0.4872 - val_loss: 4926.6572 - val_custom_acc: 0.4369\n",
      "Epoch 45/500\n",
      "250s - loss: 4982.7359 - custom_acc: 0.4875 - val_loss: 4933.5244 - val_custom_acc: 0.4379\n",
      "Epoch 46/500\n",
      "256s - loss: 4983.5214 - custom_acc: 0.4880 - val_loss: 4925.0159 - val_custom_acc: 0.4389\n",
      "Epoch 47/500\n",
      "246s - loss: 4983.3637 - custom_acc: 0.4884 - val_loss: 4931.7713 - val_custom_acc: 0.4408\n",
      "Epoch 48/500\n",
      "252s - loss: 4983.1334 - custom_acc: 0.4887 - val_loss: 4925.9049 - val_custom_acc: 0.4380\n",
      "Epoch 49/500\n",
      "287s - loss: 4982.8743 - custom_acc: 0.4891 - val_loss: 4931.9654 - val_custom_acc: 0.4389\n",
      "Epoch 50/500\n",
      "248s - loss: 4983.1854 - custom_acc: 0.4897 - val_loss: 4950.2182 - val_custom_acc: 0.4386\n",
      "Epoch 51/500\n",
      "246s - loss: 4981.5359 - custom_acc: 0.4904 - val_loss: 4927.4824 - val_custom_acc: 0.4405\n",
      "Epoch 52/500\n",
      "246s - loss: 4982.2783 - custom_acc: 0.4912 - val_loss: 4947.3430 - val_custom_acc: 0.4435\n",
      "Epoch 53/500\n",
      "246s - loss: 4982.5412 - custom_acc: 0.4927 - val_loss: 4924.7052 - val_custom_acc: 0.4440\n",
      "Epoch 54/500\n",
      "245s - loss: 4981.2955 - custom_acc: 0.4945 - val_loss: 4923.7129 - val_custom_acc: 0.4458\n",
      "Epoch 55/500\n",
      "245s - loss: 4980.1221 - custom_acc: 0.4977 - val_loss: 4924.6597 - val_custom_acc: 0.4498\n",
      "Epoch 56/500\n",
      "247s - loss: 4979.3758 - custom_acc: 0.5016 - val_loss: 4924.0826 - val_custom_acc: 0.4511\n",
      "Epoch 57/500\n",
      "249s - loss: 4978.9228 - custom_acc: 0.5037 - val_loss: 4941.7296 - val_custom_acc: 0.4533\n",
      "Epoch 58/500\n",
      "244s - loss: 4978.5778 - custom_acc: 0.5049 - val_loss: 4926.2332 - val_custom_acc: 0.4568\n",
      "Epoch 59/500\n",
      "245s - loss: 4978.8085 - custom_acc: 0.5058 - val_loss: 4924.8422 - val_custom_acc: 0.4594\n",
      "Epoch 60/500\n",
      "244s - loss: 4976.9994 - custom_acc: 0.5070 - val_loss: 4927.6471 - val_custom_acc: 0.4596\n",
      "Epoch 61/500\n",
      "244s - loss: 4978.0994 - custom_acc: 0.5075 - val_loss: 4924.3260 - val_custom_acc: 0.4615\n",
      "Epoch 62/500\n",
      "245s - loss: 4976.6447 - custom_acc: 0.5080 - val_loss: 4926.7556 - val_custom_acc: 0.4606\n",
      "Epoch 63/500\n",
      "245s - loss: 4977.5849 - custom_acc: 0.5087 - val_loss: 4921.9084 - val_custom_acc: 0.4596\n",
      "Epoch 64/500\n",
      "244s - loss: 4978.0616 - custom_acc: 0.5086 - val_loss: 4940.5362 - val_custom_acc: 0.4621\n",
      "Epoch 65/500\n",
      "245s - loss: 4976.2290 - custom_acc: 0.5096 - val_loss: 4967.2367 - val_custom_acc: 0.4601\n",
      "Epoch 66/500\n",
      "245s - loss: 4977.6091 - custom_acc: 0.5099 - val_loss: 4932.1143 - val_custom_acc: 0.4631\n",
      "Epoch 67/500\n",
      "245s - loss: 4975.4306 - custom_acc: 0.5105 - val_loss: 4938.4227 - val_custom_acc: 0.4623\n",
      "Epoch 68/500\n",
      "244s - loss: 4976.5262 - custom_acc: 0.5107 - val_loss: 4953.3201 - val_custom_acc: 0.4628\n",
      "Epoch 69/500\n",
      "244s - loss: 4976.5811 - custom_acc: 0.5107 - val_loss: 4921.0084 - val_custom_acc: 0.4627\n",
      "Epoch 70/500\n",
      "244s - loss: 4976.2657 - custom_acc: 0.5114 - val_loss: 4925.2697 - val_custom_acc: 0.4640\n",
      "Epoch 71/500\n",
      "244s - loss: 4976.8528 - custom_acc: 0.5114 - val_loss: 4922.5301 - val_custom_acc: 0.4634\n",
      "Epoch 72/500\n",
      "244s - loss: 4976.2988 - custom_acc: 0.5121 - val_loss: 4923.4751 - val_custom_acc: 0.4648\n",
      "Epoch 73/500\n",
      "244s - loss: 4975.7071 - custom_acc: 0.5125 - val_loss: 4923.5261 - val_custom_acc: 0.4634\n",
      "Epoch 74/500\n",
      "243s - loss: 4976.3240 - custom_acc: 0.5127 - val_loss: 4921.1147 - val_custom_acc: 0.4655\n",
      "Epoch 75/500\n",
      "245s - loss: 4975.7064 - custom_acc: 0.5127 - val_loss: 4924.7329 - val_custom_acc: 0.4647\n",
      "Epoch 76/500\n",
      "242s - loss: 4975.8342 - custom_acc: 0.5132 - val_loss: 4925.2391 - val_custom_acc: 0.4656\n",
      "Epoch 77/500\n",
      "244s - loss: 4975.5063 - custom_acc: 0.5135 - val_loss: 4924.4558 - val_custom_acc: 0.4644\n",
      "Epoch 78/500\n",
      "245s - loss: 4976.4319 - custom_acc: 0.5135 - val_loss: 4927.7962 - val_custom_acc: 0.4651\n",
      "Epoch 79/500\n",
      "269s - loss: 4975.9654 - custom_acc: 0.5140 - val_loss: 4920.4530 - val_custom_acc: 0.4662\n",
      "Epoch 80/500\n",
      "269s - loss: 4975.4437 - custom_acc: 0.5139 - val_loss: 4921.5838 - val_custom_acc: 0.4657\n",
      "Epoch 81/500\n",
      "245s - loss: 4974.3812 - custom_acc: 0.5143 - val_loss: 4924.0644 - val_custom_acc: 0.4639\n",
      "Epoch 82/500\n",
      "244s - loss: 4977.0487 - custom_acc: 0.5144 - val_loss: 4923.4455 - val_custom_acc: 0.4660\n",
      "Epoch 83/500\n",
      "244s - loss: 4975.3363 - custom_acc: 0.5145 - val_loss: 4920.3630 - val_custom_acc: 0.4666\n",
      "Epoch 84/500\n",
      "244s - loss: 4974.6893 - custom_acc: 0.5148 - val_loss: 4923.4939 - val_custom_acc: 0.4658\n",
      "Epoch 85/500\n",
      "243s - loss: 4974.7371 - custom_acc: 0.5151 - val_loss: 4923.3605 - val_custom_acc: 0.4667\n",
      "Epoch 86/500\n",
      "244s - loss: 4975.0466 - custom_acc: 0.5153 - val_loss: 4950.9863 - val_custom_acc: 0.4631\n",
      "Epoch 87/500\n",
      "244s - loss: 4975.2664 - custom_acc: 0.5153 - val_loss: 4924.1886 - val_custom_acc: 0.4677\n",
      "Epoch 88/500\n",
      "244s - loss: 4976.0363 - custom_acc: 0.5156 - val_loss: 4923.6814 - val_custom_acc: 0.4682\n",
      "Epoch 89/500\n",
      "244s - loss: 4974.0483 - custom_acc: 0.5157 - val_loss: 4922.4533 - val_custom_acc: 0.4664\n",
      "Epoch 90/500\n",
      "244s - loss: 4974.5702 - custom_acc: 0.5158 - val_loss: 4920.3721 - val_custom_acc: 0.4667\n",
      "Epoch 91/500\n",
      "244s - loss: 4975.6140 - custom_acc: 0.5160 - val_loss: 4921.7015 - val_custom_acc: 0.4676\n",
      "Epoch 92/500\n",
      "244s - loss: 4973.7503 - custom_acc: 0.5164 - val_loss: 4924.5828 - val_custom_acc: 0.4692\n",
      "Epoch 93/500\n",
      "243s - loss: 4973.7792 - custom_acc: 0.5161 - val_loss: 4920.5849 - val_custom_acc: 0.4673\n",
      "Epoch 94/500\n",
      "243s - loss: 4974.5991 - custom_acc: 0.5165 - val_loss: 4920.3409 - val_custom_acc: 0.4665\n",
      "Epoch 95/500\n",
      "243s - loss: 4974.7973 - custom_acc: 0.5163 - val_loss: 4930.9904 - val_custom_acc: 0.4682\n",
      "Epoch 96/500\n",
      "244s - loss: 4973.8818 - custom_acc: 0.5166 - val_loss: 4921.4973 - val_custom_acc: 0.4677\n",
      "Epoch 97/500\n",
      "244s - loss: 4974.5363 - custom_acc: 0.5168 - val_loss: 4937.9714 - val_custom_acc: 0.4699\n",
      "Epoch 98/500\n",
      "244s - loss: 4972.6710 - custom_acc: 0.5173 - val_loss: 4923.2821 - val_custom_acc: 0.4682\n",
      "Epoch 99/500\n",
      "245s - loss: 4973.3454 - custom_acc: 0.5172 - val_loss: 4982.2839 - val_custom_acc: 0.4658\n",
      "Epoch 100/500\n",
      "244s - loss: 4974.0018 - custom_acc: 0.5175 - val_loss: 4927.9886 - val_custom_acc: 0.4685\n",
      "Epoch 101/500\n",
      "244s - loss: 4973.8347 - custom_acc: 0.5175 - val_loss: 4921.6662 - val_custom_acc: 0.4686\n",
      "Epoch 102/500\n",
      "245s - loss: 4973.0589 - custom_acc: 0.5179 - val_loss: 4933.1351 - val_custom_acc: 0.4659\n",
      "Epoch 103/500\n",
      "253s - loss: 4974.3248 - custom_acc: 0.5181 - val_loss: 4922.9608 - val_custom_acc: 0.4694\n",
      "Epoch 104/500\n",
      "261s - loss: 4974.8853 - custom_acc: 0.5181 - val_loss: 4928.2525 - val_custom_acc: 0.4683\n",
      "Epoch 105/500\n",
      "260s - loss: 4972.7852 - custom_acc: 0.5177 - val_loss: 4919.9165 - val_custom_acc: 0.4678\n",
      "Epoch 106/500\n",
      "244s - loss: 4972.7617 - custom_acc: 0.5179 - val_loss: 4928.3753 - val_custom_acc: 0.4670\n",
      "Epoch 107/500\n",
      "243s - loss: 4973.0591 - custom_acc: 0.5182 - val_loss: 4930.3309 - val_custom_acc: 0.4690\n",
      "Epoch 108/500\n",
      "243s - loss: 4973.5758 - custom_acc: 0.5184 - val_loss: 5052.0338 - val_custom_acc: 0.4637\n",
      "Epoch 109/500\n",
      "243s - loss: 4973.0406 - custom_acc: 0.5187 - val_loss: 4923.1232 - val_custom_acc: 0.4685\n",
      "Epoch 110/500\n",
      "249s - loss: 4973.2850 - custom_acc: 0.5187 - val_loss: 4920.2318 - val_custom_acc: 0.4685\n",
      "Epoch 111/500\n",
      "244s - loss: 4973.0208 - custom_acc: 0.5188 - val_loss: 4920.3197 - val_custom_acc: 0.4687\n",
      "Epoch 112/500\n",
      "244s - loss: 4973.3316 - custom_acc: 0.5188 - val_loss: 4920.6104 - val_custom_acc: 0.4686\n",
      "Epoch 113/500\n",
      "284s - loss: 4972.5507 - custom_acc: 0.5188 - val_loss: 4922.5325 - val_custom_acc: 0.4702\n",
      "Epoch 114/500\n",
      "247s - loss: 4972.8473 - custom_acc: 0.5191 - val_loss: 4954.2984 - val_custom_acc: 0.4722\n",
      "Epoch 115/500\n",
      "243s - loss: 4971.9853 - custom_acc: 0.5191 - val_loss: 4929.9480 - val_custom_acc: 0.4675\n",
      "Epoch 116/500\n",
      "242s - loss: 4972.5357 - custom_acc: 0.5193 - val_loss: 4932.6426 - val_custom_acc: 0.4687\n",
      "Epoch 117/500\n",
      "242s - loss: 4973.4465 - custom_acc: 0.5195 - val_loss: 4929.9843 - val_custom_acc: 0.4694\n",
      "Epoch 118/500\n",
      "242s - loss: 4972.9110 - custom_acc: 0.5193 - val_loss: 4920.3170 - val_custom_acc: 0.4690\n",
      "Epoch 119/500\n",
      "242s - loss: 4974.2393 - custom_acc: 0.5191 - val_loss: 4920.2997 - val_custom_acc: 0.4691\n",
      "Epoch 120/500\n"
     ]
    },
    {
     "ename": "KeyboardInterrupt",
     "evalue": "",
     "output_type": "error",
     "traceback": [
      "\u001b[0;31m---------------------------------------------------------------------------\u001b[0m",
      "\u001b[0;31mKeyboardInterrupt\u001b[0m                         Traceback (most recent call last)",
      "\u001b[0;32m<ipython-input-15-71977631687a>\u001b[0m in \u001b[0;36m<module>\u001b[0;34m()\u001b[0m\n\u001b[1;32m      1\u001b[0m \u001b[1;31m# verbose: 0 for no logging to stdout, 1 for progress bar logging, 2 for one log line per epoch.\u001b[0m\u001b[1;33m\u001b[0m\u001b[1;33m\u001b[0m\u001b[0m\n\u001b[1;32m      2\u001b[0m hist = model.fit(train_x, train_y, epochs=EPOCHS, shuffle=False, verbose=2,\n\u001b[0;32m----> 3\u001b[0;31m                  validation_data=(test_x, test_y))\n\u001b[0m\u001b[1;32m      4\u001b[0m \u001b[0mprint\u001b[0m\u001b[1;33m(\u001b[0m\u001b[1;34m\"Done training\"\u001b[0m\u001b[1;33m)\u001b[0m\u001b[1;33m\u001b[0m\u001b[0m\n",
      "\u001b[0;32mC:\\Anaconda3\\envs\\sdscbio\\lib\\site-packages\\keras\\models.py\u001b[0m in \u001b[0;36mfit\u001b[0;34m(self, x, y, batch_size, epochs, verbose, callbacks, validation_split, validation_data, shuffle, class_weight, sample_weight, initial_epoch, **kwargs)\u001b[0m\n\u001b[1;32m    843\u001b[0m                               \u001b[0mclass_weight\u001b[0m\u001b[1;33m=\u001b[0m\u001b[0mclass_weight\u001b[0m\u001b[1;33m,\u001b[0m\u001b[1;33m\u001b[0m\u001b[0m\n\u001b[1;32m    844\u001b[0m                               \u001b[0msample_weight\u001b[0m\u001b[1;33m=\u001b[0m\u001b[0msample_weight\u001b[0m\u001b[1;33m,\u001b[0m\u001b[1;33m\u001b[0m\u001b[0m\n\u001b[0;32m--> 845\u001b[0;31m                               initial_epoch=initial_epoch)\n\u001b[0m\u001b[1;32m    846\u001b[0m \u001b[1;33m\u001b[0m\u001b[0m\n\u001b[1;32m    847\u001b[0m     def evaluate(self, x, y, batch_size=32, verbose=1,\n",
      "\u001b[0;32mC:\\Anaconda3\\envs\\sdscbio\\lib\\site-packages\\keras\\engine\\training.py\u001b[0m in \u001b[0;36mfit\u001b[0;34m(self, x, y, batch_size, epochs, verbose, callbacks, validation_split, validation_data, shuffle, class_weight, sample_weight, initial_epoch, **kwargs)\u001b[0m\n\u001b[1;32m   1483\u001b[0m                               \u001b[0mval_f\u001b[0m\u001b[1;33m=\u001b[0m\u001b[0mval_f\u001b[0m\u001b[1;33m,\u001b[0m \u001b[0mval_ins\u001b[0m\u001b[1;33m=\u001b[0m\u001b[0mval_ins\u001b[0m\u001b[1;33m,\u001b[0m \u001b[0mshuffle\u001b[0m\u001b[1;33m=\u001b[0m\u001b[0mshuffle\u001b[0m\u001b[1;33m,\u001b[0m\u001b[1;33m\u001b[0m\u001b[0m\n\u001b[1;32m   1484\u001b[0m                               \u001b[0mcallback_metrics\u001b[0m\u001b[1;33m=\u001b[0m\u001b[0mcallback_metrics\u001b[0m\u001b[1;33m,\u001b[0m\u001b[1;33m\u001b[0m\u001b[0m\n\u001b[0;32m-> 1485\u001b[0;31m                               initial_epoch=initial_epoch)\n\u001b[0m\u001b[1;32m   1486\u001b[0m \u001b[1;33m\u001b[0m\u001b[0m\n\u001b[1;32m   1487\u001b[0m     \u001b[1;32mdef\u001b[0m \u001b[0mevaluate\u001b[0m\u001b[1;33m(\u001b[0m\u001b[0mself\u001b[0m\u001b[1;33m,\u001b[0m \u001b[0mx\u001b[0m\u001b[1;33m,\u001b[0m \u001b[0my\u001b[0m\u001b[1;33m,\u001b[0m \u001b[0mbatch_size\u001b[0m\u001b[1;33m=\u001b[0m\u001b[1;36m32\u001b[0m\u001b[1;33m,\u001b[0m \u001b[0mverbose\u001b[0m\u001b[1;33m=\u001b[0m\u001b[1;36m1\u001b[0m\u001b[1;33m,\u001b[0m \u001b[0msample_weight\u001b[0m\u001b[1;33m=\u001b[0m\u001b[1;32mNone\u001b[0m\u001b[1;33m)\u001b[0m\u001b[1;33m:\u001b[0m\u001b[1;33m\u001b[0m\u001b[0m\n",
      "\u001b[0;32mC:\\Anaconda3\\envs\\sdscbio\\lib\\site-packages\\keras\\engine\\training.py\u001b[0m in \u001b[0;36m_fit_loop\u001b[0;34m(self, f, ins, out_labels, batch_size, epochs, verbose, callbacks, val_f, val_ins, shuffle, callback_metrics, initial_epoch)\u001b[0m\n\u001b[1;32m   1138\u001b[0m                 \u001b[0mbatch_logs\u001b[0m\u001b[1;33m[\u001b[0m\u001b[1;34m'size'\u001b[0m\u001b[1;33m]\u001b[0m \u001b[1;33m=\u001b[0m \u001b[0mlen\u001b[0m\u001b[1;33m(\u001b[0m\u001b[0mbatch_ids\u001b[0m\u001b[1;33m)\u001b[0m\u001b[1;33m\u001b[0m\u001b[0m\n\u001b[1;32m   1139\u001b[0m                 \u001b[0mcallbacks\u001b[0m\u001b[1;33m.\u001b[0m\u001b[0mon_batch_begin\u001b[0m\u001b[1;33m(\u001b[0m\u001b[0mbatch_index\u001b[0m\u001b[1;33m,\u001b[0m \u001b[0mbatch_logs\u001b[0m\u001b[1;33m)\u001b[0m\u001b[1;33m\u001b[0m\u001b[0m\n\u001b[0;32m-> 1140\u001b[0;31m                 \u001b[0mouts\u001b[0m \u001b[1;33m=\u001b[0m \u001b[0mf\u001b[0m\u001b[1;33m(\u001b[0m\u001b[0mins_batch\u001b[0m\u001b[1;33m)\u001b[0m\u001b[1;33m\u001b[0m\u001b[0m\n\u001b[0m\u001b[1;32m   1141\u001b[0m                 \u001b[1;32mif\u001b[0m \u001b[1;32mnot\u001b[0m \u001b[0misinstance\u001b[0m\u001b[1;33m(\u001b[0m\u001b[0mouts\u001b[0m\u001b[1;33m,\u001b[0m \u001b[0mlist\u001b[0m\u001b[1;33m)\u001b[0m\u001b[1;33m:\u001b[0m\u001b[1;33m\u001b[0m\u001b[0m\n\u001b[1;32m   1142\u001b[0m                     \u001b[0mouts\u001b[0m \u001b[1;33m=\u001b[0m \u001b[1;33m[\u001b[0m\u001b[0mouts\u001b[0m\u001b[1;33m]\u001b[0m\u001b[1;33m\u001b[0m\u001b[0m\n",
      "\u001b[0;32mC:\\Anaconda3\\envs\\sdscbio\\lib\\site-packages\\keras\\backend\\tensorflow_backend.py\u001b[0m in \u001b[0;36m__call__\u001b[0;34m(self, inputs)\u001b[0m\n\u001b[1;32m   2071\u001b[0m         \u001b[0msession\u001b[0m \u001b[1;33m=\u001b[0m \u001b[0mget_session\u001b[0m\u001b[1;33m(\u001b[0m\u001b[1;33m)\u001b[0m\u001b[1;33m\u001b[0m\u001b[0m\n\u001b[1;32m   2072\u001b[0m         updated = session.run(self.outputs + [self.updates_op],\n\u001b[0;32m-> 2073\u001b[0;31m                               feed_dict=feed_dict)\n\u001b[0m\u001b[1;32m   2074\u001b[0m         \u001b[1;32mreturn\u001b[0m \u001b[0mupdated\u001b[0m\u001b[1;33m[\u001b[0m\u001b[1;33m:\u001b[0m\u001b[0mlen\u001b[0m\u001b[1;33m(\u001b[0m\u001b[0mself\u001b[0m\u001b[1;33m.\u001b[0m\u001b[0moutputs\u001b[0m\u001b[1;33m)\u001b[0m\u001b[1;33m]\u001b[0m\u001b[1;33m\u001b[0m\u001b[0m\n\u001b[1;32m   2075\u001b[0m \u001b[1;33m\u001b[0m\u001b[0m\n",
      "\u001b[0;32mC:\\Anaconda3\\envs\\sdscbio\\lib\\site-packages\\tensorflow\\python\\client\\session.py\u001b[0m in \u001b[0;36mrun\u001b[0;34m(self, fetches, feed_dict, options, run_metadata)\u001b[0m\n\u001b[1;32m    764\u001b[0m     \u001b[1;32mtry\u001b[0m\u001b[1;33m:\u001b[0m\u001b[1;33m\u001b[0m\u001b[0m\n\u001b[1;32m    765\u001b[0m       result = self._run(None, fetches, feed_dict, options_ptr,\n\u001b[0;32m--> 766\u001b[0;31m                          run_metadata_ptr)\n\u001b[0m\u001b[1;32m    767\u001b[0m       \u001b[1;32mif\u001b[0m \u001b[0mrun_metadata\u001b[0m\u001b[1;33m:\u001b[0m\u001b[1;33m\u001b[0m\u001b[0m\n\u001b[1;32m    768\u001b[0m         \u001b[0mproto_data\u001b[0m \u001b[1;33m=\u001b[0m \u001b[0mtf_session\u001b[0m\u001b[1;33m.\u001b[0m\u001b[0mTF_GetBuffer\u001b[0m\u001b[1;33m(\u001b[0m\u001b[0mrun_metadata_ptr\u001b[0m\u001b[1;33m)\u001b[0m\u001b[1;33m\u001b[0m\u001b[0m\n",
      "\u001b[0;32mC:\\Anaconda3\\envs\\sdscbio\\lib\\site-packages\\tensorflow\\python\\client\\session.py\u001b[0m in \u001b[0;36m_run\u001b[0;34m(self, handle, fetches, feed_dict, options, run_metadata)\u001b[0m\n\u001b[1;32m    962\u001b[0m     \u001b[1;32mif\u001b[0m \u001b[0mfinal_fetches\u001b[0m \u001b[1;32mor\u001b[0m \u001b[0mfinal_targets\u001b[0m\u001b[1;33m:\u001b[0m\u001b[1;33m\u001b[0m\u001b[0m\n\u001b[1;32m    963\u001b[0m       results = self._do_run(handle, final_targets, final_fetches,\n\u001b[0;32m--> 964\u001b[0;31m                              feed_dict_string, options, run_metadata)\n\u001b[0m\u001b[1;32m    965\u001b[0m     \u001b[1;32melse\u001b[0m\u001b[1;33m:\u001b[0m\u001b[1;33m\u001b[0m\u001b[0m\n\u001b[1;32m    966\u001b[0m       \u001b[0mresults\u001b[0m \u001b[1;33m=\u001b[0m \u001b[1;33m[\u001b[0m\u001b[1;33m]\u001b[0m\u001b[1;33m\u001b[0m\u001b[0m\n",
      "\u001b[0;32mC:\\Anaconda3\\envs\\sdscbio\\lib\\site-packages\\tensorflow\\python\\client\\session.py\u001b[0m in \u001b[0;36m_do_run\u001b[0;34m(self, handle, target_list, fetch_list, feed_dict, options, run_metadata)\u001b[0m\n\u001b[1;32m   1012\u001b[0m     \u001b[1;32mif\u001b[0m \u001b[0mhandle\u001b[0m \u001b[1;32mis\u001b[0m \u001b[1;32mNone\u001b[0m\u001b[1;33m:\u001b[0m\u001b[1;33m\u001b[0m\u001b[0m\n\u001b[1;32m   1013\u001b[0m       return self._do_call(_run_fn, self._session, feed_dict, fetch_list,\n\u001b[0;32m-> 1014\u001b[0;31m                            target_list, options, run_metadata)\n\u001b[0m\u001b[1;32m   1015\u001b[0m     \u001b[1;32melse\u001b[0m\u001b[1;33m:\u001b[0m\u001b[1;33m\u001b[0m\u001b[0m\n\u001b[1;32m   1016\u001b[0m       return self._do_call(_prun_fn, self._session, handle, feed_dict,\n",
      "\u001b[0;32mC:\\Anaconda3\\envs\\sdscbio\\lib\\site-packages\\tensorflow\\python\\client\\session.py\u001b[0m in \u001b[0;36m_do_call\u001b[0;34m(self, fn, *args)\u001b[0m\n\u001b[1;32m   1019\u001b[0m   \u001b[1;32mdef\u001b[0m \u001b[0m_do_call\u001b[0m\u001b[1;33m(\u001b[0m\u001b[0mself\u001b[0m\u001b[1;33m,\u001b[0m \u001b[0mfn\u001b[0m\u001b[1;33m,\u001b[0m \u001b[1;33m*\u001b[0m\u001b[0margs\u001b[0m\u001b[1;33m)\u001b[0m\u001b[1;33m:\u001b[0m\u001b[1;33m\u001b[0m\u001b[0m\n\u001b[1;32m   1020\u001b[0m     \u001b[1;32mtry\u001b[0m\u001b[1;33m:\u001b[0m\u001b[1;33m\u001b[0m\u001b[0m\n\u001b[0;32m-> 1021\u001b[0;31m       \u001b[1;32mreturn\u001b[0m \u001b[0mfn\u001b[0m\u001b[1;33m(\u001b[0m\u001b[1;33m*\u001b[0m\u001b[0margs\u001b[0m\u001b[1;33m)\u001b[0m\u001b[1;33m\u001b[0m\u001b[0m\n\u001b[0m\u001b[1;32m   1022\u001b[0m     \u001b[1;32mexcept\u001b[0m \u001b[0merrors\u001b[0m\u001b[1;33m.\u001b[0m\u001b[0mOpError\u001b[0m \u001b[1;32mas\u001b[0m \u001b[0me\u001b[0m\u001b[1;33m:\u001b[0m\u001b[1;33m\u001b[0m\u001b[0m\n\u001b[1;32m   1023\u001b[0m       \u001b[0mmessage\u001b[0m \u001b[1;33m=\u001b[0m \u001b[0mcompat\u001b[0m\u001b[1;33m.\u001b[0m\u001b[0mas_text\u001b[0m\u001b[1;33m(\u001b[0m\u001b[0me\u001b[0m\u001b[1;33m.\u001b[0m\u001b[0mmessage\u001b[0m\u001b[1;33m)\u001b[0m\u001b[1;33m\u001b[0m\u001b[0m\n",
      "\u001b[0;32mC:\\Anaconda3\\envs\\sdscbio\\lib\\site-packages\\tensorflow\\python\\client\\session.py\u001b[0m in \u001b[0;36m_run_fn\u001b[0;34m(session, feed_dict, fetch_list, target_list, options, run_metadata)\u001b[0m\n\u001b[1;32m   1001\u001b[0m         return tf_session.TF_Run(session, options,\n\u001b[1;32m   1002\u001b[0m                                  \u001b[0mfeed_dict\u001b[0m\u001b[1;33m,\u001b[0m \u001b[0mfetch_list\u001b[0m\u001b[1;33m,\u001b[0m \u001b[0mtarget_list\u001b[0m\u001b[1;33m,\u001b[0m\u001b[1;33m\u001b[0m\u001b[0m\n\u001b[0;32m-> 1003\u001b[0;31m                                  status, run_metadata)\n\u001b[0m\u001b[1;32m   1004\u001b[0m \u001b[1;33m\u001b[0m\u001b[0m\n\u001b[1;32m   1005\u001b[0m     \u001b[1;32mdef\u001b[0m \u001b[0m_prun_fn\u001b[0m\u001b[1;33m(\u001b[0m\u001b[0msession\u001b[0m\u001b[1;33m,\u001b[0m \u001b[0mhandle\u001b[0m\u001b[1;33m,\u001b[0m \u001b[0mfeed_dict\u001b[0m\u001b[1;33m,\u001b[0m \u001b[0mfetch_list\u001b[0m\u001b[1;33m)\u001b[0m\u001b[1;33m:\u001b[0m\u001b[1;33m\u001b[0m\u001b[0m\n",
      "\u001b[0;31mKeyboardInterrupt\u001b[0m: "
     ]
    }
   ],
   "source": [
    "# verbose: 0 for no logging to stdout, 1 for progress bar logging, 2 for one log line per epoch.\n",
    "hist = model.fit(train_x, train_y, epochs=EPOCHS, shuffle=False, verbose=2,\n",
    "                 validation_data=(test_x, test_y))\n",
    "print(\"Done training\")"
   ]
  },
  {
   "cell_type": "code",
   "execution_count": 16,
   "metadata": {
    "collapsed": false,
    "deletable": true,
    "editable": true
   },
   "outputs": [],
   "source": [
    "SAVE_FILE = \"models/conv-filtered-4-05\"\n",
    "model.save(SAVE_FILE)"
   ]
  },
  {
   "cell_type": "code",
   "execution_count": 17,
   "metadata": {
    "collapsed": false,
    "deletable": true,
    "editable": true
   },
   "outputs": [
    {
     "ename": "NameError",
     "evalue": "name 'hist' is not defined",
     "output_type": "error",
     "traceback": [
      "\u001b[0;31m---------------------------------------------------------------------------\u001b[0m",
      "\u001b[0;31mNameError\u001b[0m                                 Traceback (most recent call last)",
      "\u001b[0;32m<ipython-input-17-5f22bf611c19>\u001b[0m in \u001b[0;36m<module>\u001b[0;34m()\u001b[0m\n\u001b[0;32m----> 1\u001b[0;31m \u001b[0mvali_loss\u001b[0m \u001b[1;33m=\u001b[0m \u001b[0mlist\u001b[0m\u001b[1;33m(\u001b[0m\u001b[0mhist\u001b[0m\u001b[1;33m.\u001b[0m\u001b[0mhistory\u001b[0m\u001b[1;33m.\u001b[0m\u001b[0mvalues\u001b[0m\u001b[1;33m(\u001b[0m\u001b[1;33m)\u001b[0m\u001b[1;33m)\u001b[0m\u001b[1;33m[\u001b[0m\u001b[1;36m1\u001b[0m\u001b[1;33m]\u001b[0m\u001b[1;33m\u001b[0m\u001b[0m\n\u001b[0m\u001b[1;32m      2\u001b[0m \u001b[0mplt\u001b[0m\u001b[1;33m.\u001b[0m\u001b[0mplot\u001b[0m\u001b[1;33m(\u001b[0m\u001b[0mrange\u001b[0m\u001b[1;33m(\u001b[0m\u001b[0mEPOCHS\u001b[0m\u001b[1;33m)\u001b[0m\u001b[1;33m,\u001b[0m \u001b[0mvali_loss\u001b[0m\u001b[1;33m)\u001b[0m\u001b[1;33m\u001b[0m\u001b[0m\n",
      "\u001b[0;31mNameError\u001b[0m: name 'hist' is not defined"
     ]
    }
   ],
   "source": [
    "vali_loss = list(hist.history.values())[1]\n",
    "plt.plot(range(EPOCHS), vali_loss)"
   ]
  },
  {
   "cell_type": "markdown",
   "metadata": {
    "deletable": true,
    "editable": true
   },
   "source": [
    "## Test on cb513"
   ]
  },
  {
   "cell_type": "code",
   "execution_count": null,
   "metadata": {
    "collapsed": true,
    "deletable": true,
    "editable": true
   },
   "outputs": [],
   "source": [
    "from keras.models import load_model\n",
    "model = load_model(SAVE_FILE)"
   ]
  },
  {
   "cell_type": "code",
   "execution_count": null,
   "metadata": {
    "collapsed": false,
    "deletable": true,
    "editable": true
   },
   "outputs": [],
   "source": [
    "test_acc = model.evaluate(test_x, test_y)\n",
    "print(test_acc)"
   ]
  },
  {
   "cell_type": "code",
   "execution_count": null,
   "metadata": {
    "collapsed": false,
    "deletable": true,
    "editable": true
   },
   "outputs": [],
   "source": [
    "i = 1\n",
    "prediction = model.predict(test_x[i:i+1])\n",
    "print(\"Shape:\", prediction.shape)"
   ]
  },
  {
   "cell_type": "code",
   "execution_count": null,
   "metadata": {
    "collapsed": false,
    "deletable": true,
    "editable": true
   },
   "outputs": [],
   "source": [
    "print(\"Expected:\\n\")\n",
    "_ = cullpdb_loader.print_residues(test_x[i], labels=test_y[i], two_d=TWO_D)\n",
    "print(\"\\nPredicted:\\n\")\n",
    "_ = cullpdb_loader.print_residues(test_x[i], labels=prediction[0], two_d=TWO_D)"
   ]
  },
  {
   "cell_type": "code",
   "execution_count": null,
   "metadata": {
    "collapsed": true,
    "deletable": true,
    "editable": true
   },
   "outputs": [],
   "source": []
  }
 ],
 "metadata": {
  "anaconda-cloud": {},
  "kernelspec": {
   "display_name": "Python [default]",
   "language": "python",
   "name": "python3"
  },
  "language_info": {
   "codemirror_mode": {
    "name": "ipython",
    "version": 3
   },
   "file_extension": ".py",
   "mimetype": "text/x-python",
   "name": "python",
   "nbconvert_exporter": "python",
   "pygments_lexer": "ipython3",
   "version": "3.5.3"
  }
 },
 "nbformat": 4,
 "nbformat_minor": 1
}
