{
 "cells": [
  {
   "cell_type": "markdown",
   "metadata": {
    "deletable": true,
    "editable": true
   },
   "source": [
    "### Artificially doubling training datasets by reflecting / reversing amino acid and structure orders."
   ]
  },
  {
   "cell_type": "code",
   "execution_count": 1,
   "metadata": {
    "collapsed": true,
    "deletable": true,
    "editable": true
   },
   "outputs": [],
   "source": [
    "import numpy as np\n",
    "import os"
   ]
  },
  {
   "cell_type": "code",
   "execution_count": 2,
   "metadata": {
    "collapsed": false,
    "deletable": true,
    "editable": true
   },
   "outputs": [],
   "source": [
    "FILE = \"data/cullpdb+profile_6133_filtered.npy.gz\"\n",
    "data = np.load(FILE)\n",
    "# reshape to 700 residues by 57-length feature vectors;\n",
    "# -1 denotes \"whatever dimension fits here\" for variable number of proteins\n",
    "data = data.reshape(-1, 700, 57)"
   ]
  },
  {
   "cell_type": "code",
   "execution_count": 3,
   "metadata": {
    "collapsed": false,
    "deletable": true,
    "editable": true
   },
   "outputs": [],
   "source": [
    "start = 0\n",
    "end = len(data)\n",
    "\n",
    "new_data = np.zeros_like(data)\n",
    "for i in range(start, end):\n",
    "    protein = data[i]\n",
    "    # two cases: with or without 'NoSeq' padding\n",
    "    # without padding - last residue is not 'NoSeq':\n",
    "    if protein[-1][21] == 0:\n",
    "        # reverse by iterating backwards\n",
    "        new_data[i] = protein[::-1]\n",
    "    # with padding - only reverse the valid residues, leave padding at end\n",
    "    else:\n",
    "        new_protein = [protein[i] for i in range(len(protein)-1, -1, -1) if protein[i][21] == 0]\n",
    "        padding = [protein[i] for i in range(len(protein)) if protein[i][21] != 0]\n",
    "        new_data[i] = np.vstack((new_protein, padding))"
   ]
  },
  {
   "cell_type": "code",
   "execution_count": 4,
   "metadata": {
    "collapsed": false,
    "deletable": true,
    "editable": true
   },
   "outputs": [
    {
     "name": "stdout",
     "output_type": "stream",
     "text": [
      "[ 0.          0.          0.          0.          0.          0.          0.\n",
      "  0.          0.          0.          0.          0.          0.          0.\n",
      "  0.          1.          0.          0.          0.          0.          0.\n",
      "  0.          1.          0.          0.          0.          0.          0.\n",
      "  0.          0.          0.          1.          0.          1.          1.\n",
      "  0.03455623  0.00364771  0.05215356  0.2404891   0.00343602  0.01551975\n",
      "  0.08166025  0.00463257  0.99330717  0.00769087  0.03167623  0.67699581\n",
      "  0.02231344  0.99712843  0.95968956  0.07175755  0.04269665  0.00776757\n",
      "  0.00630555  0.26894143  0.01567329  0.        ]\n",
      "[ 0.          0.          0.          0.          1.          0.          0.\n",
      "  0.          0.          0.          0.          0.          0.          0.\n",
      "  0.          0.          0.          0.          0.          0.          0.\n",
      "  0.          1.          0.          0.          0.          0.          0.\n",
      "  0.          0.          0.          0.          1.          1.          1.\n",
      "  0.97768652  0.02711972  0.03916572  0.03017798  0.00761493  0.99580646\n",
      "  0.02484354  0.00919371  0.04269665  0.00874925  0.01926523  0.71707529\n",
      "  0.026597    0.03732689  0.02083635  0.1809388   0.05841456  0.02412702\n",
      "  0.00892442  0.26894143  0.0104567   0.        ]\n",
      "[ 0.          0.          0.          0.          0.          0.          0.\n",
      "  0.          0.          0.          0.          0.          0.          0.\n",
      "  0.          1.          0.          0.          0.          0.          0.\n",
      "  0.          1.          0.          0.          0.          0.          0.\n",
      "  0.          0.          0.          1.          0.          1.          1.\n",
      "  0.03455623  0.00364771  0.05215356  0.2404891   0.00343602  0.01551975\n",
      "  0.08166025  0.00463257  0.99330717  0.00769087  0.03167623  0.67699581\n",
      "  0.02231344  0.99712843  0.95968956  0.07175755  0.04269665  0.00776757\n",
      "  0.00630555  0.26894143  0.01567329  0.        ]\n",
      "[ 0.          0.          0.          0.          1.          0.          0.\n",
      "  0.          0.          0.          0.          0.          0.          0.\n",
      "  0.          0.          0.          0.          0.          0.          0.\n",
      "  0.          1.          0.          0.          0.          0.          0.\n",
      "  0.          0.          0.          0.          1.          1.          1.\n",
      "  0.97768652  0.02711972  0.03916572  0.03017798  0.00761493  0.99580646\n",
      "  0.02484354  0.00919371  0.04269665  0.00874925  0.01926523  0.71707529\n",
      "  0.026597    0.03732689  0.02083635  0.1809388   0.05841456  0.02412702\n",
      "  0.00892442  0.26894143  0.0104567   0.        ]\n"
     ]
    }
   ],
   "source": [
    "print(data[1][0])\n",
    "print(data[1][-553])\n",
    "print(new_data[1][-553])\n",
    "print(new_data[1][0])"
   ]
  },
  {
   "cell_type": "code",
   "execution_count": 10,
   "metadata": {
    "collapsed": false,
    "deletable": true,
    "editable": true
   },
   "outputs": [],
   "source": [
    "SAVE = \"data/cullpdb+profile_6133_filtered_reversed.npy.gz\"\n",
    "save_data = np.vstack((new_data, data)).reshape(-1, 700*57)\n",
    "with open(SAVE, 'wb') as f:\n",
    "    np.save(f, save_data)"
   ]
  },
  {
   "cell_type": "code",
   "execution_count": null,
   "metadata": {
    "collapsed": true
   },
   "outputs": [],
   "source": []
  }
 ],
 "metadata": {
  "kernelspec": {
   "display_name": "Python 3",
   "language": "python",
   "name": "python3"
  },
  "language_info": {
   "codemirror_mode": {
    "name": "ipython",
    "version": 3
   },
   "file_extension": ".py",
   "mimetype": "text/x-python",
   "name": "python",
   "nbconvert_exporter": "python",
   "pygments_lexer": "ipython3",
   "version": "3.5.3"
  }
 },
 "nbformat": 4,
 "nbformat_minor": 2
}
