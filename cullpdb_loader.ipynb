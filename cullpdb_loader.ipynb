{
 "cells": [
  {
   "cell_type": "code",
   "execution_count": 1,
   "metadata": {
    "collapsed": false,
    "deletable": true,
    "editable": true
   },
   "outputs": [],
   "source": [
    "import os\n",
    "import numpy as np"
   ]
  },
  {
   "cell_type": "code",
   "execution_count": 2,
   "metadata": {
    "collapsed": false,
    "deletable": true,
    "editable": true
   },
   "outputs": [],
   "source": [
    "FILE = \"data/cullpdb+profile_6133.npy.gz\"\n",
    "FILTERED = \"data/cullpdb+profile_6133_filtered.npy.gz\"\n",
    "FILEPATH = os.path.abspath(os.path.join(os.getcwd(), FILE))\n",
    "\n",
    "RESIDUE_SIZE = 22\n",
    "NUM_LABELS = 9\n",
    "\n",
    "# for unfiltered cbd dataset:\n",
    "TRAIN = 5600  # [0, 5600)\n",
    "TEST = 5877  # [5600, 5877)\n",
    "VAL = 6133  # [5877, 6133)\n",
    "DATA_SIZE = 6133\n",
    "\n",
    "RESIDUE_IND = 22  # [0, 22) for each amino acid\n",
    "LABEL_IND = 31  # [22, 31) for each amino acid\n",
    "PSSM_IND = 35\n",
    "NUM_FEATURES = 57  # per residue\n",
    "NUM_RESIDUES = 700  # per protein\n",
    "\n",
    "# Symbols: \"-\" placeholder for \"NoSeq\"\n",
    "RESIDUES = ['A', 'C', 'E', 'D', 'G', 'F', 'I', 'H', 'K', 'M', \\\n",
    "            'L', 'N', 'Q', 'P', 'S', 'R', 'T', 'W', 'V', 'Y', 'X','-']\n",
    "LABELS = ['L', 'B', 'E', 'G', 'I', 'H', 'S', 'T','-']"
   ]
  },
  {
   "cell_type": "markdown",
   "metadata": {
    "deletable": true,
    "editable": true
   },
   "source": [
    "The 57 features are:<br>\n",
    "\"[0,22): amino acid residues, with the order of 'A', 'C', 'E', 'D', 'G', 'F', 'I', 'H', 'K', 'M', 'L', 'N', 'Q', 'P', 'S', 'R', 'T', 'W', 'V', 'Y', 'X','NoSeq'\"<br>\n",
    "\"[22,31): Secondary structure labels, with the sequence of 'L', 'B', 'E', 'G', 'I', 'H', 'S', 'T','NoSeq'\"<br>\n",
    "\"[31,33): N- and C- terminals;\"<br>\n",
    "\"[33,35): relative and absolute solvent accessibility, used only for training. (absolute accessibility is thresholded at 15; relative accessibility is normalized by the largest accessibility value in a protein and thresholded at 0.15; original solvent accessibility is computed by DSSP)\"<br>\n",
    "\"[35,57): sequence profile. Note the order of amino acid residues is ACDEFGHIKLMNPQRSTVWXY and it is different from the order for amino acid residues\"<br>\n",
    "<br>\n",
    "The last feature of both amino acid residues and secondary structure labels just mark end of the protein sequence.<br>\n",
    "\"[22,31) and [33,35) are hidden during testing.\"<br>\n",
    "\n",
    "\n",
    "\"The dataset division for the first \"\"cullpdb+profile_6133.npy.gz\"\" dataset is\"<br>\n",
    "\"[0,5600) training\"<br>\n",
    "\"[5605,5877) test \"<br>\n",
    "\"[5877,6133) validation\"<br>"
   ]
  },
  {
   "cell_type": "code",
   "execution_count": 3,
   "metadata": {
    "collapsed": false,
    "deletable": true,
    "editable": true
   },
   "outputs": [],
   "source": [
    "#print(data[0][0:22])\n",
    "#print(data[0][22:31])\n",
    "#print(data[0][31:33])\n",
    "#print(data[0][33:35])\n",
    "#print(data[0][35:57])"
   ]
  },
  {
   "cell_type": "code",
   "execution_count": 4,
   "metadata": {
    "collapsed": true,
    "deletable": true,
    "editable": true
   },
   "outputs": [],
   "source": [
    "def _get_cols(pssm=False):\n",
    "    # extract columns for residues, labels, pssm (seq profile)\n",
    "    feature_cols = []\n",
    "    label_cols = []\n",
    "    for i in range(NUM_RESIDUES*NUM_FEATURES):\n",
    "        j = i % NUM_FEATURES\n",
    "        if j < RESIDUE_IND:\n",
    "            feature_cols.append(i)\n",
    "        elif j < LABEL_IND:\n",
    "            label_cols.append(i)\n",
    "        elif pssm and PSSM_IND <= j:\n",
    "            feature_cols.append(i)\n",
    "    return feature_cols, label_cols"
   ]
  },
  {
   "cell_type": "code",
   "execution_count": 5,
   "metadata": {
    "collapsed": false,
    "deletable": true,
    "editable": true
   },
   "outputs": [],
   "source": [
    "def load_file(file_path, abspath=False, verbose=True):\n",
    "    if not abspath:\n",
    "        file_path = os.path.abspath(os.path.join(os.getcwd(), file_path))\n",
    "    if verbose:\n",
    "        print(\"Loading file from \", file_path, \"...\", sep=\"\")\n",
    "    try:\n",
    "        data = np.load(file_path)\n",
    "        if verbose:\n",
    "            print(\"File Loaded.\")\n",
    "        return data\n",
    "    except:\n",
    "        print(\"\\n\\nFile could not be found at\", file_path, \"\\n\\n\")\n",
    "        return None"
   ]
  },
  {
   "cell_type": "code",
   "execution_count": 6,
   "metadata": {
    "collapsed": false,
    "deletable": true,
    "editable": true
   },
   "outputs": [],
   "source": [
    "# split must be false to load filtered set\n",
    "def load_residues(file_path, abspath=False, verbose=True, split=True, two_d=False, pssm=False):\n",
    "    num_features = RESIDUE_SIZE\n",
    "    if pssm:\n",
    "        num_features += RESIDUE_SIZE\n",
    "    feature_cols, label_cols = _get_cols(pssm)\n",
    "    \n",
    "    if verbose:\n",
    "        print(\"Loading protein residues and labels...\")\n",
    "    data = load_file(file_path, abspath, verbose)\n",
    "    if data is None:\n",
    "        return None, None, None\n",
    "    \n",
    "    # load only training data (eg for filtered)\n",
    "    if not split:\n",
    "        train_x = np.array( data[:, feature_cols] )\n",
    "        train_y = np.array( data[:, label_cols] )\n",
    "        if verbose:\n",
    "            print(\"Loaded protein residues and labels.\")\n",
    "        if two_d:\n",
    "            if verbose:\n",
    "                print(\"Reshaping...\")\n",
    "            train_x = train_x.reshape(-1, NUM_RESIDUES, num_features)\n",
    "            train_y = train_y.reshape(-1, NUM_RESIDUES, NUM_LABELS)\n",
    "            if verbose:\n",
    "                print(\"Reshaped\")\n",
    "        return (train_x, train_y)\n",
    "    \n",
    "    assert len(data) == DATA_SIZE, \"Data has size: {0}\".format(len(data))\n",
    "    \n",
    "    # extract training residues and labels\n",
    "    train_x = np.array( data[:TRAIN, feature_cols] )\n",
    "    train_y = np.array( data[:TRAIN, label_cols] )\n",
    "    \n",
    "    test_x = np.array( data[TRAIN:TEST, feature_cols] )\n",
    "    test_y = np.array( data[TRAIN:TEST, label_cols] )\n",
    "    \n",
    "    val_x = np.array( data[TEST:VAL, feature_cols] )\n",
    "    val_y = np.array( data[TEST:VAL, label_cols] )\n",
    "    \n",
    "    if two_d:\n",
    "        if verbose:\n",
    "            print(\"Reshaping...\")\n",
    "        # reshape to 3d matrices - one residue per slice, one protein per row\n",
    "        train_x = train_x.reshape(TRAIN, NUM_RESIDUES, num_features)\n",
    "        train_y = train_y.reshape(TRAIN, NUM_RESIDUES, NUM_LABELS)\n",
    "        test_x = test_x.reshape(TEST-TRAIN, NUM_RESIDUES, num_features)\n",
    "        test_y = test_y.reshape(TEST-TRAIN, NUM_RESIDUES, NUM_LABELS)\n",
    "        val_x = val_x.reshape(VAL-TEST, NUM_RESIDUES, num_features)\n",
    "        val_y = val_y.reshape(VAL-TEST, NUM_RESIDUES, NUM_LABELS)\n",
    "        if verbose:\n",
    "            print(\"Reshaped\")\n",
    "    \n",
    "    if verbose:\n",
    "        print(\"Loaded protein residues and labels.\")\n",
    "    return (train_x, train_y), (val_x, val_y), (test_x, test_y)"
   ]
  },
  {
   "cell_type": "code",
   "execution_count": 7,
   "metadata": {
    "collapsed": false,
    "deletable": true,
    "editable": true
   },
   "outputs": [],
   "source": [
    "# short - if True, terminates sequence after finding first 'NoSeq'\n",
    "def print_residues(data, labels=None, two_d=False, short=True):\n",
    "    rs = []\n",
    "    lb = []\n",
    "    # len(data) should == NUM_RESIDUES * num_features\n",
    "    if not two_d:\n",
    "        data = data.reshape(NUM_RESIDUES, -1)\n",
    "    for i in range(len(data)):\n",
    "        res = RESIDUES[np.argmax(data[i][:RESIDUE_SIZE])]\n",
    "        # break at end of protein\n",
    "        if short and res == 'NoSeq':\n",
    "            break\n",
    "        rs.append(res)\n",
    "            \n",
    "    if labels is not None:\n",
    "        if not two_d:\n",
    "            labels = labels.reshape(NUM_RESIDUES, -1)\n",
    "        for i in range(len(rs)):\n",
    "            label = LABELS[np.argmax(labels[i][:NUM_LABELS])]\n",
    "            lb.append(label)\n",
    "        print(\"Residues:\")\n",
    "        print(\"\".join(rs))\n",
    "        print(\"Labels:\")\n",
    "        print(\"\".join(lb))\n",
    "        return rs, lb\n",
    "    else:\n",
    "        print(\"\".join(rs))\n",
    "        return rs"
   ]
  },
  {
   "cell_type": "code",
   "execution_count": 8,
   "metadata": {
    "collapsed": false,
    "deletable": true,
    "editable": true
   },
   "outputs": [],
   "source": [
    "def load_cb513(file_path, abspath=False, verbose=True, two_d=False, pssm=False):\n",
    "    if not abspath:\n",
    "        file_path = os.path.abspath(os.path.join(os.getcwd(), file_path))\n",
    "        \n",
    "    if verbose:\n",
    "        print(\"Loading file from \", file_path, \"...\", sep=\"\")\n",
    "    try:\n",
    "        data = np.load(file_path)\n",
    "        if verbose:\n",
    "            print(\"File Loaded.\")\n",
    "            \n",
    "        num_features = RESIDUE_SIZE\n",
    "        if pssm:\n",
    "            num_features += RESIDUE_SIZE\n",
    "        feature_cols, label_cols = _get_cols(pssm)\n",
    "\n",
    "        inputs = np.array( data[:, feature_cols] )\n",
    "        labels = np.array( data[:, label_cols] )\n",
    "\n",
    "        if two_d:\n",
    "            inputs = inputs.reshape(len(inputs), NUM_RESIDUES, num_features)\n",
    "            labels = labels.reshape(len(labels), NUM_RESIDUES, NUM_LABELS)\n",
    "\n",
    "        return (inputs, labels)\n",
    "    except:\n",
    "        print(\"\\n\\nFile could not be found at\", file_path, \"\\n\\n\")\n",
    "        return None"
   ]
  },
  {
   "cell_type": "code",
   "execution_count": 9,
   "metadata": {
    "collapsed": true,
    "deletable": true,
    "editable": true
   },
   "outputs": [],
   "source": [
    "def get_residues(): return RESIDUES[:]\n",
    "def get_labels(): return LABELS[:]"
   ]
  },
  {
   "cell_type": "code",
   "execution_count": 10,
   "metadata": {
    "collapsed": true,
    "deletable": true,
    "editable": true
   },
   "outputs": [],
   "source": [
    "def _tester():\n",
    "    path = \"data/cullpdb+profile_6133.npy.gz\"\n",
    "\n",
    "    train, validation, test = load_residues_2D(path)\n",
    "\n",
    "    train_x, train_y = train\n",
    "    print(train_x.shape)\n",
    "    print(train_y.shape)\n",
    "#    i = 69\n",
    "#    r, l = print_residues(train_x[i], labels=train_y[i])"
   ]
  },
  {
   "cell_type": "code",
   "execution_count": 11,
   "metadata": {
    "collapsed": false,
    "deletable": true,
    "editable": true
   },
   "outputs": [],
   "source": [
    "# _tester()"
   ]
  },
  {
   "cell_type": "code",
   "execution_count": null,
   "metadata": {
    "collapsed": true,
    "deletable": true,
    "editable": true
   },
   "outputs": [],
   "source": []
  }
 ],
 "metadata": {
  "anaconda-cloud": {},
  "kernelspec": {
   "display_name": "Python 3",
   "language": "python",
   "name": "python3"
  },
  "language_info": {
   "codemirror_mode": {
    "name": "ipython",
    "version": 3
   },
   "file_extension": ".py",
   "mimetype": "text/x-python",
   "name": "python",
   "nbconvert_exporter": "python",
   "pygments_lexer": "ipython3",
   "version": "3.5.3"
  }
 },
 "nbformat": 4,
 "nbformat_minor": 1
}
